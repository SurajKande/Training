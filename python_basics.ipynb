{
  "nbformat": 4,
  "nbformat_minor": 0,
  "metadata": {
    "colab": {
      "name": "python_basics.ipynb",
      "provenance": [],
      "collapsed_sections": [],
      "authorship_tag": "ABX9TyMm8/pZcen2v74w3cPUNExX",
      "include_colab_link": true
    },
    "kernelspec": {
      "name": "python3",
      "display_name": "Python 3"
    }
  },
  "cells": [
    {
      "cell_type": "markdown",
      "metadata": {
        "id": "view-in-github",
        "colab_type": "text"
      },
      "source": [
        "<a href=\"https://colab.research.google.com/github/SurajKande/Training/blob/master/python_basics.ipynb\" target=\"_parent\"><img src=\"https://colab.research.google.com/assets/colab-badge.svg\" alt=\"Open In Colab\"/></a>"
      ]
    },
    {
      "cell_type": "code",
      "metadata": {
        "id": "KlY13o7nUe-v",
        "colab_type": "code",
        "colab": {}
      },
      "source": [
        "# Print the sum of 7 and 10\n",
        "print(7+10)"
      ],
      "execution_count": 0,
      "outputs": []
    },
    {
      "cell_type": "code",
      "metadata": {
        "id": "DLknF4xQU5Zo",
        "colab_type": "code",
        "colab": {}
      },
      "source": [
        "# Division\n",
        "print(5 / 8)\n",
        "\n",
        "#Addition\n",
        "print(7 + 10)"
      ],
      "execution_count": 0,
      "outputs": []
    },
    {
      "cell_type": "code",
      "metadata": {
        "id": "-VmufGo7VHit",
        "colab_type": "code",
        "colab": {}
      },
      "source": [
        "# Addition, subtraction\n",
        "print(5 + 5)\n",
        "print(5 - 5)\n",
        "\n",
        "# Multiplication, division, modulo, and exponentiation\n",
        "print(3 * 5)\n",
        "print(10 / 2)\n",
        "print(18 % 7)\n",
        "print(4 ** 2)\n",
        "\n",
        "# How much is your $100 worth after 7 years?\n",
        "print(100*(1.1**7))"
      ],
      "execution_count": 0,
      "outputs": []
    },
    {
      "cell_type": "code",
      "metadata": {
        "id": "FSeLDY1LVUH9",
        "colab_type": "code",
        "colab": {}
      },
      "source": [
        "# Create a variable savings\n",
        "savings =100\n",
        "\n",
        "# Print out savings\n",
        "print(savings)"
      ],
      "execution_count": 0,
      "outputs": []
    },
    {
      "cell_type": "code",
      "metadata": {
        "id": "5oUeDqIwVhlN",
        "colab_type": "code",
        "colab": {}
      },
      "source": [
        "# Create a variable savings\n",
        "savings = 100\n",
        "\n",
        "# Create a variable growth_multiplier\n",
        "growth_multiplier = 1.1\n",
        "\n",
        "# Calculate result\n",
        "result = 100*(1.1**7)\n",
        "\n",
        "# Print out result\n",
        "print(result)\n"
      ],
      "execution_count": 0,
      "outputs": []
    },
    {
      "cell_type": "code",
      "metadata": {
        "id": "BuBtjsnnVs8L",
        "colab_type": "code",
        "colab": {}
      },
      "source": [
        "# Create a variable desc\n",
        "desc  = 'compound interest'\n",
        "\n",
        "# Create a variable profitable\n",
        "profitable = True"
      ],
      "execution_count": 0,
      "outputs": []
    },
    {
      "cell_type": "code",
      "metadata": {
        "id": "msOfwQxwVwR7",
        "colab_type": "code",
        "colab": {}
      },
      "source": [
        "savings = 100\n",
        "growth_multiplier = 1.1\n",
        "desc = \"compound interest\"\n",
        "\n",
        "# Assign product of growth_multiplier and savings to year1\n",
        "year1 = 100*1.1\n",
        "\n",
        "# Print the type of year1\n",
        "print(type(year1))\n",
        "\n",
        "# Assign sum of desc and desc to doubledesc\n",
        "doubledesc = desc +desc\n",
        "\n",
        "# Print out doubledesc\n",
        "print(doubledesc)\n"
      ],
      "execution_count": 0,
      "outputs": []
    },
    {
      "cell_type": "code",
      "metadata": {
        "id": "Z3_oH0lGVzcu",
        "colab_type": "code",
        "colab": {}
      },
      "source": [
        "# Definition of savings and result\n",
        "savings = 100\n",
        "result = 100 * 1.10 ** 7\n",
        "\n",
        "# Fix the printout\n",
        "print(\"I started with $\" + str(savings) + \" and now have $\" + str(result) + \". Awesome!\")\n",
        "\n",
        "# Definition of pi_string\n",
        "pi_string = \"3.1415926\"\n",
        "\n",
        "# Convert pi_string into float: pi_float\n",
        "pi_float = float(pi_string)\n"
      ],
      "execution_count": 0,
      "outputs": []
    },
    {
      "cell_type": "markdown",
      "metadata": {
        "id": "ImnqiDrh9vtr",
        "colab_type": "text"
      },
      "source": [
        "### String Methods"
      ]
    },
    {
      "cell_type": "code",
      "metadata": {
        "id": "8bdoq2vV-lQ9",
        "colab_type": "code",
        "colab": {}
      },
      "source": [
        "# Consider a string \n",
        "place = \"poolhouse\"\n",
        "\n",
        "# Use upper() on place:  .upper() converts the whole string into capitals \n",
        "place_up = place.upper()\n",
        "print(place_up)    #OUTPUT: \"POOLHOUSE\"\n",
        "\n",
        "# Print out the number of o's in variable place:  .count(\"chr\") counts the number of times that chr appeared\n",
        "print(place.count(\"o\"))     #OUTPUT: 3\n",
        " \n",
        "     # there are many more string methods the above are the basic methods to give an idea"
      ],
      "execution_count": 0,
      "outputs": []
    },
    {
      "cell_type": "markdown",
      "metadata": {
        "id": "RuJ8SjzK8Yx-",
        "colab_type": "text"
      },
      "source": [
        "###if, elif and else"
      ]
    },
    {
      "cell_type": "code",
      "metadata": {
        "id": "oRqzQm6v8fG1",
        "colab_type": "code",
        "colab": {}
      },
      "source": [
        "# Define variables\n",
        "room = \"kit\"\n",
        "area = 14.0\n",
        "\n",
        "# if statement for room\n",
        "if room == \"kit\" :\n",
        "    print(\"looking around in the kitchen.\")\n",
        "\n",
        "# if statement for area\n",
        "if area > 15 :\n",
        "    print(\"big place!\")\n",
        "\n",
        "# if-elif-else construct for room\n",
        "if room == \"kit\" :\n",
        "    print(\"looking around in the kitchen.\")\n",
        "elif room == \"bed\":\n",
        "    print(\"looking around in the bedroom.\")\n",
        "else :\n",
        "    print(\"looking around elsewhere.\")\n",
        "\n",
        "# if-elif-else construct for area\n",
        "if area > 15 :\n",
        "    print(\"big place!\")\n",
        "elif area > 10 :\n",
        "    print(\"medium size, nice!\")\n",
        "else :\n",
        "    print(\"pretty small.\")"
      ],
      "execution_count": 0,
      "outputs": []
    },
    {
      "cell_type": "markdown",
      "metadata": {
        "id": "qTKHghJp-1GQ",
        "colab_type": "text"
      },
      "source": [
        "### While Loop\n",
        "\n",
        "The while loop is like a repeated if statement. The code is executed over and over again, as long as the condition is True."
      ]
    },
    {
      "cell_type": "code",
      "metadata": {
        "id": "JxMCQCi6-39d",
        "colab_type": "code",
        "colab": {}
      },
      "source": [
        "# Initialize offset\n",
        "offset = -6\n",
        "\n",
        "# Code the while loop\n",
        "while offset != 0 :\n",
        "    print(\"correcting...\")\n",
        "    if offset > 0 :\n",
        "        offset -= 1\n",
        "    else :\n",
        "        offset += 1\n",
        "    print(offset)"
      ],
      "execution_count": 0,
      "outputs": []
    },
    {
      "cell_type": "markdown",
      "metadata": {
        "id": "e_nfbgGW_NDE",
        "colab_type": "text"
      },
      "source": [
        "### For loop"
      ]
    },
    {
      "cell_type": "code",
      "metadata": {
        "id": "k5Lr3Nwv_Ovy",
        "colab_type": "code",
        "colab": {}
      },
      "source": [
        "# areas list\n",
        "areas = [11.25, 18.0, 20.0, 10.75, 9.50]\n",
        "\n",
        "# Code the for loop\n",
        "for i in areas:\n",
        "    print(i)"
      ],
      "execution_count": 0,
      "outputs": []
    },
    {
      "cell_type": "markdown",
      "metadata": {
        "id": "I6-Eg_Xy_WFD",
        "colab_type": "text"
      },
      "source": [
        "If you also want to access the index information, so where the list element    \n",
        " you're iterating over is located, you can use enumerate()"
      ]
    },
    {
      "cell_type": "code",
      "metadata": {
        "id": "yyGm9_-p_aJd",
        "colab_type": "code",
        "colab": {}
      },
      "source": [
        "for a,b in enumerate(areas) :\n",
        "    print(\"room \" +str(a)+\": \"+str(b))\n",
        "\n",
        "#OUTPUT: room 0: 11.25\n",
        "#        room 1: 18.0\n",
        "#        room 2: 20.0\n",
        "#        room 3: 10.75\n",
        "#        room 4: 9.5"
      ],
      "execution_count": 0,
      "outputs": []
    }
  ]
}