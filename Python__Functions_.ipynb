{
  "nbformat": 4,
  "nbformat_minor": 0,
  "metadata": {
    "colab": {
      "name": "Python_Functions.ipynb",
      "provenance": [],
      "authorship_tag": "ABX9TyPGHziOz2WDKsdAdrIu3FVX",
      "include_colab_link": true
    },
    "kernelspec": {
      "name": "python3",
      "display_name": "Python 3"
    }
  },
  "cells": [
    {
      "cell_type": "markdown",
      "metadata": {
        "id": "view-in-github",
        "colab_type": "text"
      },
      "source": [
        "<a href=\"https://colab.research.google.com/github/SurajKande/Training/blob/master/Python__Functions_.ipynb\" target=\"_parent\"><img src=\"https://colab.research.google.com/assets/colab-badge.svg\" alt=\"Open In Colab\"/></a>"
      ]
    },
    {
      "cell_type": "code",
      "metadata": {
        "id": "tIxPodyu11pn",
        "colab_type": "code",
        "colab": {
          "base_uri": "https://localhost:8080/",
          "height": 51
        },
        "outputId": "bfe6ded9-f244-492a-b665-c43dab86ac42"
      },
      "source": [
        "type(print(\"hello\"))  #prints the type of the print function"
      ],
      "execution_count": 1,
      "outputs": [
        {
          "output_type": "stream",
          "text": [
            "hello\n"
          ],
          "name": "stdout"
        },
        {
          "output_type": "execute_result",
          "data": {
            "text/plain": [
              "NoneType"
            ]
          },
          "metadata": {
            "tags": []
          },
          "execution_count": 1
        }
      ]
    },
    {
      "cell_type": "code",
      "metadata": {
        "id": "UCduAnt8UoR5",
        "colab_type": "code",
        "colab": {
          "base_uri": "https://localhost:8080/",
          "height": 34
        },
        "outputId": "0a4b6447-e49b-4179-e0f8-652f90734b08"
      },
      "source": [
        "#Example to create own Function [ 1. without passing an argument ]\n",
        "\n",
        "# creating the function shout\n",
        "def shout():\n",
        "    shout_word =\"HELLOOOOOO WORLDDDD\"\n",
        "    # Print shout_word\n",
        "    print(shout_word)\n",
        "\n",
        "shout()"
      ],
      "execution_count": 2,
      "outputs": [
        {
          "output_type": "stream",
          "text": [
            "HELLOOOOOO WORLDDDD\n"
          ],
          "name": "stdout"
        }
      ]
    },
    {
      "cell_type": "code",
      "metadata": {
        "id": "1pCuCCIIVjI8",
        "colab_type": "code",
        "colab": {
          "base_uri": "https://localhost:8080/",
          "height": 34
        },
        "outputId": "7944bef0-cff5-4067-b7e0-1ae70b02fa91"
      },
      "source": [
        "#Example to create own Function [ 2. with passing an argument ]\n",
        "\n",
        "def my_func(word):\n",
        "    my_word = 'hello ' + word\n",
        "    print(my_word)\n",
        "\n",
        "# Call shout with the string 'congratulations'\n",
        "my_func('User!')"
      ],
      "execution_count": 5,
      "outputs": [
        {
          "output_type": "stream",
          "text": [
            "hello User!\n"
          ],
          "name": "stdout"
        }
      ]
    },
    {
      "cell_type": "code",
      "metadata": {
        "id": "VbMTpPcRWc3W",
        "colab_type": "code",
        "colab": {
          "base_uri": "https://localhost:8080/",
          "height": 34
        },
        "outputId": "b400d636-6264-422c-a4f1-bcbc5d853fc8"
      },
      "source": [
        "#Example to create own Function [ 2. with passing an argument ]\n",
        "def my_func1(word):\n",
        "    my_word = 'hello ' + word\n",
        "    return my_word           # returning the values of the function \n",
        "\n",
        "val = my_func1('user') #we use variable to store the return value from the function\n",
        "\n",
        "#print value\n",
        "print(val)"
      ],
      "execution_count": 6,
      "outputs": [
        {
          "output_type": "stream",
          "text": [
            "hello user\n"
          ],
          "name": "stdout"
        }
      ]
    },
    {
      "cell_type": "code",
      "metadata": {
        "id": "jWMrBo2jYBM4",
        "colab_type": "code",
        "colab": {
          "base_uri": "https://localhost:8080/",
          "height": 34
        },
        "outputId": "1064994a-eb6a-4aa0-a841-70c5608e2173"
      },
      "source": [
        "#Example to create own Function [ 2. with passing multiple argument ]\n",
        "def my_func2(first_name,last_name):\n",
        "  val = \"hello \"+first_name + last_name\n",
        "  return val\n",
        "\n",
        "print(my_func2('suraj','kande'))"
      ],
      "execution_count": 7,
      "outputs": [
        {
          "output_type": "stream",
          "text": [
            "hello surajkande\n"
          ],
          "name": "stdout"
        }
      ]
    }
  ]
}