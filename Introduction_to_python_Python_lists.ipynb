{
  "nbformat": 4,
  "nbformat_minor": 0,
  "metadata": {
    "colab": {
      "name": "Introduction_to_python_Python lists.ipynb",
      "provenance": [],
      "authorship_tag": "ABX9TyMZy08pr+UTJr0N1QKxttpx",
      "include_colab_link": true
    },
    "kernelspec": {
      "name": "python3",
      "display_name": "Python 3"
    }
  },
  "cells": [
    {
      "cell_type": "markdown",
      "metadata": {
        "id": "view-in-github",
        "colab_type": "text"
      },
      "source": [
        "<a href=\"https://colab.research.google.com/github/SurajKande/Training/blob/master/Introduction_to_python_Python_lists.ipynb\" target=\"_parent\"><img src=\"https://colab.research.google.com/assets/colab-badge.svg\" alt=\"Open In Colab\"/></a>"
      ]
    },
    {
      "cell_type": "markdown",
      "metadata": {
        "id": "RUDKOkAUg5Sd",
        "colab_type": "text"
      },
      "source": [
        "# Python Lists: \n",
        "    A list is a datatype in python to group values together"
      ]
    },
    {
      "cell_type": "markdown",
      "metadata": {
        "id": "g72_tVh5ieyc",
        "colab_type": "text"
      },
      "source": [
        "### Create a List"
      ]
    },
    {
      "cell_type": "code",
      "metadata": {
        "id": "NXKAT3iKWTwI",
        "colab_type": "code",
        "colab": {}
      },
      "source": [
        "# area variables (in square meters)\n",
        " hall = 11.25\n",
        " kit = 18.0\n",
        " liv = 20.0\n",
        " bed = 10.75\n",
        " bath = 9.50\n",
        "\n",
        "# Create list areas\n",
        " areas =[hall,kit,liv,bed,bath]\n",
        "\n",
        "# Print areas\n",
        " print(areas)\n"
      ],
      "execution_count": 0,
      "outputs": []
    },
    {
      "cell_type": "markdown",
      "metadata": {
        "id": "gpcVvFsMggah",
        "colab_type": "text"
      },
      "source": [
        "### Create a List with Different Datatypes"
      ]
    },
    {
      "cell_type": "code",
      "metadata": {
        "id": "othpBsh3WtgZ",
        "colab_type": "code",
        "colab": {}
      },
      "source": [
        "# area variables (in square meters)\n",
        "  hall = 11.25\n",
        "  kit = 18.0\n",
        "  liv = 20.0\n",
        "  bed = 10.75\n",
        "  bath = 9.50\n",
        "\n",
        "# Adapt list areas\n",
        "  areas = [\"hallway\", hall, \"kitchen\", kit, \"living room\", liv, \"bedroom\", bed, \"bathroom\", bath]\n",
        "\n",
        "# Print areas\n",
        "  print(areas)"
      ],
      "execution_count": 0,
      "outputs": []
    },
    {
      "cell_type": "markdown",
      "metadata": {
        "id": "QWSryqQ5tbrm",
        "colab_type": "text"
      },
      "source": [
        "### Create List of Lists"
      ]
    },
    {
      "cell_type": "code",
      "metadata": {
        "id": "NaSri8OhW2D_",
        "colab_type": "code",
        "colab": {}
      },
      "source": [
        "# area variables (in square meters)\n",
        "  hall = 11.25\n",
        "  kit = 18.0\n",
        "  liv = 20.0\n",
        "  bed = 10.75\n",
        "  bath = 9.50\n",
        "\n",
        "# house information as list of lists\n",
        "  house = [[\"hallway\", hall],\n",
        "          [\"kitchen\", kit],\n",
        "          [\"living room\", liv],\n",
        "          [\"bedroom\",bed],\n",
        "          [\"bathroom\",bath]]\n",
        "\n",
        "# Print out house\n",
        "  print(house)\n",
        "\n",
        "# Print out the type of house\n",
        "  print(type(house))"
      ],
      "execution_count": 0,
      "outputs": []
    },
    {
      "cell_type": "markdown",
      "metadata": {
        "id": "jCeYolwluC37",
        "colab_type": "text"
      },
      "source": [
        "### access data in python lists"
      ]
    },
    {
      "cell_type": "code",
      "metadata": {
        "id": "Io2J-zrsW7fe",
        "colab_type": "code",
        "colab": {}
      },
      "source": [
        "# Create the areas list\n",
        "  areas = [\"hallway\", 11.25, \"kitchen\", 18.0, \"living room\", 20.0, \"bedroom\", 10.75, \"bathroom\", 9.50]\n",
        "\n",
        "# to Print second element from areas list\n",
        "  print(areas[1])\n",
        "\n",
        "# to Print last element from areas list\n",
        "  print(areas[-1])\n",
        "\n",
        "# to Print the area of the living room\n",
        "  print(areas[5])\n",
        "\n",
        "# Sum of kitchen and bedroom area: eat_sleep_area\n",
        "  eat_sleep_area = areas[3]+areas[7]\n",
        "  print(eat_sleep_area)"
      ],
      "execution_count": 0,
      "outputs": []
    },
    {
      "cell_type": "markdown",
      "metadata": {
        "id": "qPwzD6EouX0F",
        "colab_type": "text"
      },
      "source": [
        "### Slicing and dicing"
      ]
    },
    {
      "cell_type": "code",
      "metadata": {
        "id": "0Ui-m2IpXcQ8",
        "colab_type": "code",
        "colab": {}
      },
      "source": [
        "# Using slicing to create a list downstairs\n",
        "  downstairs = areas[:6]\n",
        "\n",
        "# Using slicing to create a list upstairs\n",
        "  upstairs =areas[6:10]\n",
        "\n",
        "# Print downstairs and upstairs\n",
        "  print(downstairs)\n",
        "  print(upstairs)\n",
        "\n",
        "# Alternative slicing to create downstairs\n",
        "  downstairs = areas[:-4]\n",
        "  \n",
        "# Alternative slicing to create upstairs\n",
        "  upstairs = areas[-4:]"
      ],
      "execution_count": 0,
      "outputs": []
    },
    {
      "cell_type": "markdown",
      "metadata": {
        "id": "8eRhcBI50QkM",
        "colab_type": "text"
      },
      "source": [
        "### Subsetting lists of lists"
      ]
    },
    {
      "cell_type": "code",
      "metadata": {
        "id": "9Lv7NQwQ1Bin",
        "colab_type": "code",
        "colab": {}
      },
      "source": [
        "#creating the list of list\n",
        " x = [['a', 'b', 'c'],['d', 'e', 'f'],['g', 'h', 'i']]   # this is a list which contains 3 lists \n",
        "\n",
        "#to access data\n",
        "  x[1]           #OUTPUT: 'd', 'e', 'f'\n",
        "\n",
        " X[2][0]         #OUTPUT: 'g'\n",
        "\n",
        " X[2][:2]        #OUTPUT: 'g' 'h'"
      ],
      "execution_count": 0,
      "outputs": []
    },
    {
      "cell_type": "markdown",
      "metadata": {
        "id": "HS6ZKqAI2hNN",
        "colab_type": "text"
      },
      "source": [
        "### Manipulating the list data"
      ]
    },
    {
      "cell_type": "code",
      "metadata": {
        "id": "jvKkPcAQ2p7h",
        "colab_type": "code",
        "colab": {}
      },
      "source": [
        "# Create the areas list\n",
        "  areas = [\"hallway\", 11.25, \"kitchen\", 18.0, \"living room\", 20.0, \"bedroom\", 10.75, \"bathroom\", 9.50]\n",
        "\n",
        "# Change the bathroom area to 10.75\n",
        "  areas[9] = 10.50\n",
        "\n",
        "# Change value \"living room\" to \"chill zone\"\n",
        "  areas[4] = \"chill zone\"\n",
        "\n",
        "# Add poolhouse data to areas, name the new list as areas_1\n",
        "  areas_1 = areas + [\"poolhouse\", 24.5]\n",
        "\n",
        "# Add garage data to areas_1, name the new list as areas_2\n",
        "  areas_2 = areas_1 + [\"garage\", 15.45]\n",
        "\n",
        "# to delete data in the list\n",
        "  del(x[1])        #OUTPUT: delets the value at index 1\n"
      ],
      "execution_count": 0,
      "outputs": []
    },
    {
      "cell_type": "markdown",
      "metadata": {
        "id": "Wgioaipz5WZ7",
        "colab_type": "text"
      },
      "source": [
        "Familiar Functions "
      ]
    },
    {
      "cell_type": "code",
      "metadata": {
        "id": "R6ooYLcG5edZ",
        "colab_type": "code",
        "colab": {}
      },
      "source": [
        "# Create variables var1 and var2\n",
        "  var1 = [1, 2, 3, 4]\n",
        "  var2 = True\n",
        "\n",
        "# to Print out the type of var1, use Function type(name_of_variable)\n",
        "  print(type(var1))\n",
        "\n",
        "# to Print out the length of var1, use Function len(name_of_varibale) \n",
        "  print(len(var1))\n",
        "\n",
        "# Convert var2 to an integer: out2\n",
        "  out2 = int(var2)"
      ],
      "execution_count": 0,
      "outputs": []
    },
    {
      "cell_type": "markdown",
      "metadata": {
        "id": "IlYS25jL_tty",
        "colab_type": "text"
      },
      "source": [
        "### List Methods"
      ]
    },
    {
      "cell_type": "code",
      "metadata": {
        "id": "s0bFycio_xcG",
        "colab_type": "code",
        "colab": {}
      },
      "source": [
        "# Consider the list areas\n",
        "areas = [11.25, 18.0, 20.0, 10.75, 9.50]\n",
        "\n",
        "#    .index(), to get the index of the first element of a list that matches its input and\n",
        "#    .count(), to get the number of times an element appears in a list. \n",
        "#    .append(), that adds an element to the list it is called on,\n",
        "#    .remove(), that removes the first element of a list that matches the input, and\n",
        "#    .reverse(), that reverses the order of the elements in the list it is called on\n",
        "\n",
        "# To Print out the index of the element 20.0\n",
        "print(areas.index(20.0))            #OUTPUT: 2\n",
        "\n",
        "# To Print out how often 9.50 appears in areas\n",
        "print(areas.count(9.50))            #OUTPUT: 1\n",
        "\n",
        "# To add the value to the list\n",
        "areas.append(24.5)\n",
        "\n",
        "#To reverse the order of the elements in list\n",
        "areas.reverse()\n",
        "\n",
        "\n",
        "      # there are many more List methods the above are the basic methods to give an idea"
      ],
      "execution_count": 0,
      "outputs": []
    },
    {
      "cell_type": "markdown",
      "metadata": {
        "id": "cByNnnsBA67U",
        "colab_type": "text"
      },
      "source": [
        ""
      ]
    }
  ]
}