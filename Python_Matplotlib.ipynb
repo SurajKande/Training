{
  "nbformat": 4,
  "nbformat_minor": 0,
  "metadata": {
    "colab": {
      "name": "Python_Matplotlib.ipynb",
      "provenance": [],
      "authorship_tag": "ABX9TyPImBvjeLjWFY60V7c1hF86",
      "include_colab_link": true
    },
    "kernelspec": {
      "name": "python3",
      "display_name": "Python 3"
    }
  },
  "cells": [
    {
      "cell_type": "markdown",
      "metadata": {
        "id": "view-in-github",
        "colab_type": "text"
      },
      "source": [
        "<a href=\"https://colab.research.google.com/github/SurajKande/Training/blob/master/Python_Matplotlib.ipynb\" target=\"_parent\"><img src=\"https://colab.research.google.com/assets/colab-badge.svg\" alt=\"Open In Colab\"/></a>"
      ]
    },
    {
      "cell_type": "markdown",
      "metadata": {
        "id": "Z27VcSnatdOK",
        "colab_type": "text"
      },
      "source": [
        "Line plot\n"
      ]
    },
    {
      "cell_type": "code",
      "metadata": {
        "id": "xp2kplvOsqJ2",
        "colab_type": "code",
        "colab": {}
      },
      "source": [
        "# Import matplotlib.pyplot as plt\n",
        "import matplotlib.pyplot as plt\n",
        "\n",
        "# Make a line plot: year on the x-axis, pop on the y-axis\n",
        "plt.plot(year,pop)\n",
        "\n",
        "# Display the plot with plt.show()\n",
        "plt.show()\n",
        "\n",
        "# Make a scatter plot: year on the x-axis, pop on the y-axis\n",
        "plt.scatter(year, pop)\n",
        "plt.show()\n",
        "\n",
        "# Make a histogram of pop \n",
        "plt.hist(pop)"
      ],
      "execution_count": 0,
      "outputs": []
    },
    {
      "cell_type": "markdown",
      "metadata": {
        "id": "vCwDxNWmwMXB",
        "colab_type": "text"
      },
      "source": [
        "for Histograms by default, Python sets the number of bins to 10 in that case. The number of bins is pretty important. Too few bins will oversimplify reality and won't show you the details. Too many bins will overcomplicate reality and won't show the bigger picture.\n",
        "\n",
        "To control the number of bins to divide your data in, you can set the bins argument."
      ]
    },
    {
      "cell_type": "code",
      "metadata": {
        "id": "avL2sIWfwPi3",
        "colab_type": "code",
        "colab": {}
      },
      "source": [
        "plt.hist(pop,bins=5)         #for 5 bins\n",
        "# Show and clean up plot\n",
        "plt.show()\n",
        "plt.clf()\n",
        "\n",
        "# Build histogram with 20 bins\n",
        "plt.hist(pop,bins=20)        #for 20 bins\n",
        "\n",
        "# Show and clean up again\n",
        "plt.show()\n",
        "plt.clf()"
      ],
      "execution_count": 0,
      "outputs": []
    },
    {
      "cell_type": "markdown",
      "metadata": {
        "id": "NRI1m08rzHac",
        "colab_type": "text"
      },
      "source": [
        "basic plot Customization"
      ]
    },
    {
      "cell_type": "code",
      "metadata": {
        "id": "9iUSi8jozLTi",
        "colab_type": "code",
        "colab": {}
      },
      "source": [
        "plt.xscale('log') # to scale the values of x axis into log\n",
        "plt.yscale('log') # to scale the values of x axis into log\n",
        "\n",
        "# Add axis labels\n",
        "plt.xlabel(\"x axis\")\n",
        "plt.ylabel(\"y axis\")\n",
        "\n",
        "# Add title\n",
        "plt.title(\"title\")\n",
        "\n",
        "# ticks is used to name the labels on the axis\n",
        "tick_val = [1000, 10000, 100000]\n",
        "tick_lab = ['1k', '10k', '100k']\n",
        "plt.xticks(tick_val,tick_lab)      #max of 2 ticks can be used"
      ],
      "execution_count": 0,
      "outputs": []
    }
  ]
}