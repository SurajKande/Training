{
  "nbformat": 4,
  "nbformat_minor": 0,
  "metadata": {
    "colab": {
      "name": "Introduction_to_python Numpy.ipynb",
      "provenance": [],
      "authorship_tag": "ABX9TyOrC9xR8cWqMPzjrg+sttqA",
      "include_colab_link": true
    },
    "kernelspec": {
      "name": "python3",
      "display_name": "Python 3"
    }
  },
  "cells": [
    {
      "cell_type": "markdown",
      "metadata": {
        "id": "view-in-github",
        "colab_type": "text"
      },
      "source": [
        "<a href=\"https://colab.research.google.com/github/SurajKande/Training/blob/master/Introduction_to_python_Numpy.ipynb\" target=\"_parent\"><img src=\"https://colab.research.google.com/assets/colab-badge.svg\" alt=\"Open In Colab\"/></a>"
      ]
    },
    {
      "cell_type": "markdown",
      "metadata": {
        "id": "N8QYsM0rqBe7",
        "colab_type": "text"
      },
      "source": [
        " First NumPy Array"
      ]
    },
    {
      "cell_type": "code",
      "metadata": {
        "id": "6cEkVadvFKBT",
        "colab_type": "code",
        "colab": {}
      },
      "source": [
        "# Create list baseball\n",
        "baseball = [180, 215, 210, 210, 188, 176, 209, 200]\n",
        "\n",
        "# Import the numpy package as np\n",
        "import numpy as np\n",
        "\n",
        "# Create a numpy array from baseball: np_baseball\n",
        "np_baseball = np.array(baseball)\n",
        "#baseball\n",
        "#print(baseball)\n",
        "\n",
        "np_baseball\n",
        "# Print out type of np_baseball\n",
        "print(type(np_baseball))\n",
        "#print(np_baseball)"
      ],
      "execution_count": 0,
      "outputs": []
    },
    {
      "cell_type": "code",
      "metadata": {
        "id": "Op4DIke2qOhN",
        "colab_type": "code",
        "colab": {}
      },
      "source": [
        "# Create a numpy array from height_in: np_height_in\n",
        "np_height_in = np.array(height_in)\n",
        "\n",
        "# Print out np_height_in\n",
        "print(np_height_in)\n",
        "\n",
        "# Convert np_height_in to m: np_height_m\n",
        "np_height_m = 0.0254 * np_height_in\n",
        "\n",
        "# Print np_height_m\n",
        "print(np_height_m)\n"
      ],
      "execution_count": 0,
      "outputs": []
    },
    {
      "cell_type": "code",
      "metadata": {
        "id": "xlt9bVVyqTJn",
        "colab_type": "code",
        "colab": {}
      },
      "source": [
        "# Create array from height_in with metric units: np_height_m\n",
        "np_height_m = np.array(height_in) * 0.0254\n",
        "\n",
        "# Create array from weight_lb with metric units: np_weight_kg\n",
        "np_weight_kg = np.array(weight_lb)*0.453592\n",
        "\n",
        "# Calculate the BMI: bmi\n",
        "bmi = np_weight_kg/(np_height_m**2)\n",
        "\n",
        "# Print out bmi\n",
        "print(bmi)\n"
      ],
      "execution_count": 0,
      "outputs": []
    },
    {
      "cell_type": "code",
      "metadata": {
        "id": "68UzEpGXqT8N",
        "colab_type": "code",
        "colab": {}
      },
      "source": [
        "# Store weight and height lists as numpy arrays\n",
        "np_weight_lb = np.array(weight_lb)\n",
        "np_height_in = np.array(height_in)\n",
        "\n",
        "# Print out the weight at index 50\n",
        "print(np_weight_lb[50])\n",
        "\n",
        "# Print out sub-array of np_height_in: index 100 up to and including index 110\n",
        "print(np_height_in[100:111])"
      ],
      "execution_count": 0,
      "outputs": []
    },
    {
      "cell_type": "markdown",
      "metadata": {
        "id": "6drcR1sx7PMk",
        "colab_type": "text"
      },
      "source": [
        " the operational operators like < and >= worked with Numpy arrays directly but\n",
        "\n",
        "To use boolean operators with Numpy,  you will need                             \n",
        "\n",
        "**np.logical_and()**                                                            \n",
        "**np.logical_or()**                                                               \n",
        "**np.logical_not()** "
      ]
    },
    {
      "cell_type": "code",
      "metadata": {
        "id": "I1fK08zh78SB",
        "colab_type": "code",
        "colab": {}
      },
      "source": [
        "# Create arrays\n",
        "import numpy as np\n",
        "my_house = np.array([18.0, 20.0, 10.75, 9.50])\n",
        "your_house = np.array([14.0, 24.0, 14.25, 9.0])\n",
        "\n",
        "# my_house greater than 18.5 or smaller than 10\n",
        "print(np.logical_or(my_house>18.5, my_house<10))\n",
        "\n",
        "# Both my_house and your_house smaller than 11\n",
        "print(np.logical_and(my_house<11, your_house<11))\n"
      ],
      "execution_count": 0,
      "outputs": []
    },
    {
      "cell_type": "markdown",
      "metadata": {
        "id": "kNOuYjWaqckb",
        "colab_type": "text"
      },
      "source": [
        "2D Numpy Arrays"
      ]
    },
    {
      "cell_type": "code",
      "metadata": {
        "id": "obGSQwRFqZZf",
        "colab_type": "code",
        "colab": {
          "base_uri": "https://localhost:8080/",
          "height": 50
        },
        "outputId": "57125daf-5d4a-477c-b6bb-0599398f006c"
      },
      "source": [
        "# Create baseball, a list of lists\n",
        "baseball = [[180, 78.4],\n",
        "            [215, 102.7],\n",
        "            [210, 98.5],\n",
        "            [188, 75.2]]\n",
        "\n",
        "# Create a 2D numpy array from baseball: np_baseball\n",
        "np_baseball = np.array(baseball)\n",
        "\n",
        "# Print out the type of np_baseball\n",
        "print(type(np_baseball))\n",
        "\n",
        "# Print out the shape of np_baseball\n",
        "print(np_baseball.shape)"
      ],
      "execution_count": 3,
      "outputs": [
        {
          "output_type": "stream",
          "text": [
            "<class 'numpy.ndarray'>\n",
            "(4, 2)\n"
          ],
          "name": "stdout"
        }
      ]
    },
    {
      "cell_type": "markdown",
      "metadata": {
        "id": "llwHac2dryjL",
        "colab_type": "text"
      },
      "source": [
        "subsetting the numpy"
      ]
    },
    {
      "cell_type": "code",
      "metadata": {
        "id": "aNM_bMPyql-O",
        "colab_type": "code",
        "colab": {}
      },
      "source": [
        "# Create np_baseball (2 cols)\n",
        "np_baseball = np.array(baseball)\n",
        "\n",
        "# Print out the 50th row of np_baseball\n",
        "print(np_baseball[49,:])\n",
        "\n",
        "# Select the entire second column of np_baseball: np_weight_lb\n",
        "np_weight_lb = np_baseball[:,1]\n",
        "\n",
        "# Print out height of 124th player\n",
        "print(np_baseball[123,0])"
      ],
      "execution_count": 0,
      "outputs": []
    },
    {
      "cell_type": "markdown",
      "metadata": {
        "id": "b0v4y6EAqsYr",
        "colab_type": "text"
      },
      "source": [
        "basic numpy methods"
      ]
    },
    {
      "cell_type": "code",
      "metadata": {
        "id": "5vtQMeuyqvEe",
        "colab_type": "code",
        "colab": {}
      },
      "source": [
        "# Create np_height_in from np_baseball\n",
        "np_height_in = np_baseball[:,0]\n",
        "\n",
        "# Print out the mean of np_height_in\n",
        "print(np.mean(np_height_in))\n",
        "\n",
        "# Print out the median of np_height_in\n",
        "print(np.median(np_height_in))\n",
        "\n",
        "# Print mean height (first column)\n",
        "avg = np.mean(np_baseball[:,0])\n",
        "print(\"Average: \" + str(avg))\n",
        "\n",
        "# Print median height. Replace 'None'\n",
        "med = np.median(np_baseball[:,0])\n",
        "print(\"Median: \" + str(med))\n",
        "\n",
        "# Print out the standard deviation on height. Replace 'None'\n",
        "stddev = np.std(np_baseball[:,0])\n",
        "print(\"Standard Deviation: \" + str(stddev))\n",
        "\n",
        "# Print out correlation between first and second column. Replace 'None'\n",
        "corr = np.corrcoef(np_baseball[:,0],np_baseball[:,1])\n",
        "print(\"Correlation: \" + str(corr))\n",
        "\n",
        "np_positions = np.array(positions)\n",
        "np_heights = np.array(heights)\n",
        "# Heights of the goalkeepers: gk_heights\n",
        "gk_heights = np_heights[np_positions == 'GK']\n",
        "\n",
        "# Heights of the other players: other_heights\n",
        "other_heights = np_heights[np_positions != 'GK']\n",
        "\n",
        "# Print out the median height of goalkeepers. Replace 'None'\n",
        "print(\"Median height of goalkeepers: \" + str(np.median(gk_heights)))\n",
        "\n",
        "# Print out the median height of other players. Replace 'None'\n",
        "print(\"Median height of other players: \" + str(np.median(other_heights)))"
      ],
      "execution_count": 0,
      "outputs": []
    },
    {
      "cell_type": "markdown",
      "metadata": {
        "id": "ZjI27edhBSBn",
        "colab_type": "text"
      },
      "source": [
        "Looping in numpy\n",
        "\n",
        "for dealing with a 1D Numpy array, looping over all elements can be as simple as:\n",
        "```\n",
        "for x in np_array :\n",
        "    ...\n",
        "```\n",
        " for 2D Numpy array, it's more complicated. A 2D array is built up of multiple 1D arrays. To explicitly iterate over all separate elements of a multi-dimensional array, we need this syntax:\n",
        "```\n",
        "for x in np.nditer(np_array) :\n",
        "    ...\n",
        "```"
      ]
    },
    {
      "cell_type": "code",
      "metadata": {
        "id": "j4ophfubB3GV",
        "colab_type": "code",
        "colab": {
          "base_uri": "https://localhost:8080/",
          "height": 151
        },
        "outputId": "bfe71c46-fcc8-4ebe-f1ab-5b708511bb25"
      },
      "source": [
        "for x in np.nditer(np_baseball):\n",
        "  print(str(x)+\" inches\")"
      ],
      "execution_count": 4,
      "outputs": [
        {
          "output_type": "stream",
          "text": [
            "180.0 inches\n",
            "78.4 inches\n",
            "215.0 inches\n",
            "102.7 inches\n",
            "210.0 inches\n",
            "98.5 inches\n",
            "188.0 inches\n",
            "75.2 inches\n"
          ],
          "name": "stdout"
        }
      ]
    }
  ]
}