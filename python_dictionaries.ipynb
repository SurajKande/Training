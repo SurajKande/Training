{
  "nbformat": 4,
  "nbformat_minor": 0,
  "metadata": {
    "colab": {
      "name": "python_dictionaries.ipynb",
      "provenance": [],
      "collapsed_sections": [],
      "authorship_tag": "ABX9TyN74Rh65/YR7mVYRycV1Vhp",
      "include_colab_link": true
    },
    "kernelspec": {
      "name": "python3",
      "display_name": "Python 3"
    }
  },
  "cells": [
    {
      "cell_type": "markdown",
      "metadata": {
        "id": "view-in-github",
        "colab_type": "text"
      },
      "source": [
        "<a href=\"https://colab.research.google.com/github/SurajKande/python-basics/blob/master/python_dictionaries.ipynb\" target=\"_parent\"><img src=\"https://colab.research.google.com/assets/colab-badge.svg\" alt=\"Open In Colab\"/></a>"
      ]
    },
    {
      "cell_type": "markdown",
      "metadata": {
        "id": "XdCtslFj06sv",
        "colab_type": "text"
      },
      "source": [
        "Dictionaries are a dayatype unlike lists they have something like keyvalue pairs\n",
        "\n",
        "to initilize a dictionary                                                       \n",
        " `SYNTAX:  my_dict = { key1:val1, key2,val2, .......}`"
      ]
    },
    {
      "cell_type": "code",
      "metadata": {
        "id": "yJZkByqq0ei0",
        "colab_type": "code",
        "colab": {}
      },
      "source": [
        "# create a dictionary europe from string in countries and capitals\n",
        "europe = { 'spain':'madrid', 'france':'paris', 'germany':'berlin', 'norway':'oslo'}"
      ],
      "execution_count": 0,
      "outputs": []
    },
    {
      "cell_type": "markdown",
      "metadata": {
        "id": "eqDlwKel02B1",
        "colab_type": "text"
      },
      "source": [
        "Access the dictionariy values we use the keys to access the values"
      ]
    },
    {
      "cell_type": "code",
      "metadata": {
        "id": "Y_CKPLTV1Mn7",
        "colab_type": "code",
        "colab": {
          "base_uri": "https://localhost:8080/",
          "height": 34
        },
        "outputId": "19727496-dd52-48b7-8909-b1f01169a2cf"
      },
      "source": [
        "# Print out the keys in europe\n",
        "print(europe.keys())"
      ],
      "execution_count": 3,
      "outputs": [
        {
          "output_type": "stream",
          "text": [
            "dict_keys(['spain', 'france', 'germany', 'norway'])\n"
          ],
          "name": "stdout"
        }
      ]
    },
    {
      "cell_type": "code",
      "metadata": {
        "id": "h3XUuukvjQwo",
        "colab_type": "code",
        "colab": {
          "base_uri": "https://localhost:8080/",
          "height": 34
        },
        "outputId": "de6e0f24-3827-4feb-e768-c3513e4d7c03"
      },
      "source": [
        "# Print out value that belongs to key 'norway'\n",
        "print(europe['norway'])     "
      ],
      "execution_count": 21,
      "outputs": [
        {
          "output_type": "stream",
          "text": [
            "oslo\n"
          ],
          "name": "stdout"
        }
      ]
    },
    {
      "cell_type": "markdown",
      "metadata": {
        "id": "sY4NA5FC2Bbt",
        "colab_type": "text"
      },
      "source": [
        "Dictionary Manipulation"
      ]
    },
    {
      "cell_type": "code",
      "metadata": {
        "id": "5de7-9ZGtEqp",
        "colab_type": "code",
        "colab": {}
      },
      "source": [
        "# Add italy to europe\n",
        "europe['italy']='rome'"
      ],
      "execution_count": 0,
      "outputs": []
    },
    {
      "cell_type": "code",
      "metadata": {
        "id": "Hyji16K4tIky",
        "colab_type": "code",
        "colab": {
          "base_uri": "https://localhost:8080/",
          "height": 34
        },
        "outputId": "1c654eff-8245-49dc-b953-cd58f46f060f"
      },
      "source": [
        "# to check if italy got added in europe\n",
        "print('italy' in europe)"
      ],
      "execution_count": 23,
      "outputs": [
        {
          "output_type": "stream",
          "text": [
            "True\n"
          ],
          "name": "stdout"
        }
      ]
    },
    {
      "cell_type": "code",
      "metadata": {
        "id": "stj1mcbdtL0y",
        "colab_type": "code",
        "colab": {
          "base_uri": "https://localhost:8080/",
          "height": 34
        },
        "outputId": "abc8a921-ebe9-4f2c-cbf1-66a362c5b53f"
      },
      "source": [
        "# Add poland and its capital warsaw to europe dictionanry\n",
        "europe['poland'] = 'warsaw'\n",
        "print(europe['poland'])"
      ],
      "execution_count": 24,
      "outputs": [
        {
          "output_type": "stream",
          "text": [
            "warsaw\n"
          ],
          "name": "stdout"
        }
      ]
    },
    {
      "cell_type": "code",
      "metadata": {
        "id": "KcfrkZ37tOWJ",
        "colab_type": "code",
        "colab": {
          "base_uri": "https://localhost:8080/",
          "height": 34
        },
        "outputId": "9dc04e51-b2a3-4aae-d578-ca3bb7be3a18"
      },
      "source": [
        "# Update capital of germany\n",
        "europe['germany'] = 'Berlin'\n",
        "print(europe['germany'])"
      ],
      "execution_count": 26,
      "outputs": [
        {
          "output_type": "stream",
          "text": [
            "Berlin\n"
          ],
          "name": "stdout"
        }
      ]
    },
    {
      "cell_type": "code",
      "metadata": {
        "id": "ndo9AxUmAeQ-",
        "colab_type": "code",
        "colab": {
          "base_uri": "https://localhost:8080/",
          "height": 119
        },
        "outputId": "801b8dca-eb10-4411-e821-cff0ad2896d1"
      },
      "source": [
        "# Iterate over europe\n",
        "for k,v in europe.items():\n",
        "    print(\"the capital of \"+k+\" is \"+v)"
      ],
      "execution_count": 27,
      "outputs": [
        {
          "output_type": "stream",
          "text": [
            "the capital of spain is madrid\n",
            "the capital of france is paris\n",
            "the capital of germany is Berlin\n",
            "the capital of norway is oslo\n",
            "the capital of italy is rome\n",
            "the capital of poland is warsaw\n"
          ],
          "name": "stdout"
        }
      ]
    },
    {
      "cell_type": "code",
      "metadata": {
        "id": "R6ArOEjhtgBf",
        "colab_type": "code",
        "colab": {}
      },
      "source": [
        "# Remove poland\n",
        "del(europe['poland'])"
      ],
      "execution_count": 0,
      "outputs": []
    },
    {
      "cell_type": "code",
      "metadata": {
        "id": "a4js1O_TuSzr",
        "colab_type": "code",
        "colab": {
          "base_uri": "https://localhost:8080/",
          "height": 34
        },
        "outputId": "af9254b7-b964-440f-bab2-1b2d60b9cda7"
      },
      "source": [
        "print(europe)"
      ],
      "execution_count": 29,
      "outputs": [
        {
          "output_type": "stream",
          "text": [
            "{'spain': 'madrid', 'france': 'paris', 'germany': 'Berlin', 'norway': 'oslo', 'italy': 'rome'}\n"
          ],
          "name": "stdout"
        }
      ]
    },
    {
      "cell_type": "markdown",
      "metadata": {
        "id": "6-Fb-BpUAbtL",
        "colab_type": "text"
      },
      "source": [
        "Looping over Dictionaries\n",
        "\n",
        "In Python 3, you can also use items() method to loop over a dictionary:"
      ]
    },
    {
      "cell_type": "code",
      "metadata": {
        "id": "qfONBKrX2CMd",
        "colab_type": "code",
        "colab": {
          "base_uri": "https://localhost:8080/",
          "height": 34
        },
        "outputId": "b902621b-c426-4c66-8b9f-4248a032cdda"
      },
      "source": [
        "# Create sub-dictionary data\n",
        "#ex: \n",
        "data = {'capital':'rome', 'population':59.83}\n",
        "europe['italy'] = data\n",
        "print(europe['italy'])"
      ],
      "execution_count": 30,
      "outputs": [
        {
          "output_type": "stream",
          "text": [
            "{'capital': 'rome', 'population': 59.83}\n"
          ],
          "name": "stdout"
        }
      ]
    }
  ]
}