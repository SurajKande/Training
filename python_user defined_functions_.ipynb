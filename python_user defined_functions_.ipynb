{
  "nbformat": 4,
  "nbformat_minor": 0,
  "metadata": {
    "colab": {
      "name": "python_userDefined_functions_.ipynb",
      "provenance": [],
      "collapsed_sections": [],
      "toc_visible": true,
      "authorship_tag": "ABX9TyP6n0wFQtN+lT9mVlarMrrO",
      "include_colab_link": true
    },
    "kernelspec": {
      "name": "python3",
      "display_name": "Python 3"
    }
  },
  "cells": [
    {
      "cell_type": "markdown",
      "metadata": {
        "id": "view-in-github",
        "colab_type": "text"
      },
      "source": [
        "<a href=\"https://colab.research.google.com/github/SurajKande/Training/blob/master/python_userDefined_functions_.ipynb\" target=\"_parent\"><img src=\"https://colab.research.google.com/assets/colab-badge.svg\" alt=\"Open In Colab\"/></a>"
      ]
    },
    {
      "cell_type": "markdown",
      "metadata": {
        "id": "4o389F4evrkh",
        "colab_type": "text"
      },
      "source": [
        "# User Defined Functions                                                        \n",
        "  => how to create own functions\n"
      ]
    },
    {
      "cell_type": "code",
      "metadata": {
        "id": "tIxPodyu11pn",
        "colab_type": "code",
        "outputId": "bfe6ded9-f244-492a-b665-c43dab86ac42",
        "colab": {
          "base_uri": "https://localhost:8080/",
          "height": 51
        }
      },
      "source": [
        "type(print(\"hello\"))  #prints the type of the print function"
      ],
      "execution_count": 0,
      "outputs": [
        {
          "output_type": "stream",
          "text": [
            "hello\n"
          ],
          "name": "stdout"
        },
        {
          "output_type": "execute_result",
          "data": {
            "text/plain": [
              "NoneType"
            ]
          },
          "metadata": {
            "tags": []
          },
          "execution_count": 1
        }
      ]
    },
    {
      "cell_type": "code",
      "metadata": {
        "id": "UCduAnt8UoR5",
        "colab_type": "code",
        "outputId": "0a4b6447-e49b-4179-e0f8-652f90734b08",
        "colab": {
          "base_uri": "https://localhost:8080/",
          "height": 34
        }
      },
      "source": [
        "#Example to create own Function [ 1. without passing an argument ]\n",
        "\n",
        "# creating the function shout\n",
        "def shout():\n",
        "    shout_word =\"HELLOOOOOO WORLDDDD\"\n",
        "    # Print shout_word\n",
        "    print(shout_word)\n",
        "\n",
        "shout()"
      ],
      "execution_count": 0,
      "outputs": [
        {
          "output_type": "stream",
          "text": [
            "HELLOOOOOO WORLDDDD\n"
          ],
          "name": "stdout"
        }
      ]
    },
    {
      "cell_type": "code",
      "metadata": {
        "id": "1pCuCCIIVjI8",
        "colab_type": "code",
        "outputId": "7944bef0-cff5-4067-b7e0-1ae70b02fa91",
        "colab": {
          "base_uri": "https://localhost:8080/",
          "height": 34
        }
      },
      "source": [
        "#Example to create own Function [ 2. with passing an argument ]\n",
        "\n",
        "def my_func(word):\n",
        "    my_word = 'hello ' + word\n",
        "    print(my_word)\n",
        "\n",
        "# Call shout with the string 'congratulations'\n",
        "my_func('User!')"
      ],
      "execution_count": 0,
      "outputs": [
        {
          "output_type": "stream",
          "text": [
            "hello User!\n"
          ],
          "name": "stdout"
        }
      ]
    },
    {
      "cell_type": "code",
      "metadata": {
        "id": "VbMTpPcRWc3W",
        "colab_type": "code",
        "outputId": "b400d636-6264-422c-a4f1-bcbc5d853fc8",
        "colab": {
          "base_uri": "https://localhost:8080/",
          "height": 34
        }
      },
      "source": [
        "#Example to create own Function [ 2. with passing an argument ]\n",
        "def my_func1(word):\n",
        "    my_word = 'hello ' + word\n",
        "    return my_word           # returning the values of the function \n",
        "\n",
        "val = my_func1('user') #we use variable to store the return value from the function\n",
        "\n",
        "#print value\n",
        "print(val)"
      ],
      "execution_count": 0,
      "outputs": [
        {
          "output_type": "stream",
          "text": [
            "hello user\n"
          ],
          "name": "stdout"
        }
      ]
    },
    {
      "cell_type": "code",
      "metadata": {
        "id": "jWMrBo2jYBM4",
        "colab_type": "code",
        "outputId": "1064994a-eb6a-4aa0-a841-70c5608e2173",
        "colab": {
          "base_uri": "https://localhost:8080/",
          "height": 34
        }
      },
      "source": [
        "#Example to create own Function [ 2. with passing multiple argument ]\n",
        "def my_func2(first_name,last_name):\n",
        "  val = \"hello \"+first_name + last_name\n",
        "  return val\n",
        "\n",
        "print(my_func2('suraj','kande'))"
      ],
      "execution_count": 0,
      "outputs": [
        {
          "output_type": "stream",
          "text": [
            "hello surajkande\n"
          ],
          "name": "stdout"
        }
      ]
    },
    {
      "cell_type": "markdown",
      "metadata": {
        "id": "ICmA1oXZvc6e",
        "colab_type": "text"
      },
      "source": [
        "##Scope of the variables\n",
        "not all objects are accessible everywhere in the code                           \n",
        "Scope -> part of the program where the variable can be accessed                 \n",
        "1. **Global Scope**: can be accessed in the entire code, defined in the main body \n",
        "2. **Local Scope**   : can be accessed only inside the defined function           \n",
        "3. **Built-in Scope** : these are the pre-defined built in modules "
      ]
    },
    {
      "cell_type": "code",
      "metadata": {
        "id": "Vox4QNnRvpqD",
        "colab_type": "code",
        "outputId": "4a98ed62-4d6c-4dc6-dbd0-686cbda43709",
        "colab": {
          "base_uri": "https://localhost:8080/",
          "height": 195
        }
      },
      "source": [
        "# this example shows that we are unable to access the local variables a1 from outside the functionc\n",
        "def my_func():\n",
        "  a1 = 5\n",
        " \n",
        "print(a1)"
      ],
      "execution_count": 0,
      "outputs": [
        {
          "output_type": "error",
          "ename": "NameError",
          "evalue": "ignored",
          "traceback": [
            "\u001b[0;31m---------------------------------------------------------------------------\u001b[0m",
            "\u001b[0;31mNameError\u001b[0m                                 Traceback (most recent call last)",
            "\u001b[0;32m<ipython-input-27-25b61c090909>\u001b[0m in \u001b[0;36m<module>\u001b[0;34m()\u001b[0m\n\u001b[1;32m      2\u001b[0m   \u001b[0ma1\u001b[0m \u001b[0;34m=\u001b[0m \u001b[0;36m5\u001b[0m\u001b[0;34m\u001b[0m\u001b[0;34m\u001b[0m\u001b[0m\n\u001b[1;32m      3\u001b[0m \u001b[0;34m\u001b[0m\u001b[0m\n\u001b[0;32m----> 4\u001b[0;31m \u001b[0mprint\u001b[0m\u001b[0;34m(\u001b[0m\u001b[0ma1\u001b[0m\u001b[0;34m)\u001b[0m\u001b[0;34m\u001b[0m\u001b[0;34m\u001b[0m\u001b[0m\n\u001b[0m",
            "\u001b[0;31mNameError\u001b[0m: name 'a1' is not defined"
          ]
        }
      ]
    },
    {
      "cell_type": "code",
      "metadata": {
        "id": "9tfWtDHSzi3T",
        "colab_type": "code",
        "outputId": "8db1fdc4-3f28-4464-bb38-2f5c1c3ce33e",
        "colab": {
          "base_uri": "https://localhost:8080/",
          "height": 67
        }
      },
      "source": [
        "## this example showes that value is not changed even though we called a function to change the val\n",
        "\n",
        "a = 15          #Global variable\n",
        "print(\"initial value = \"+str(a))\n",
        "\n",
        "def change_val():\n",
        "  a = 5         #Local variable\n",
        "  print(\"changed value = \"+str(a))\n",
        "\n",
        "change_val()\n",
        "print(\"final value = \"+str(a))"
      ],
      "execution_count": 0,
      "outputs": [
        {
          "output_type": "stream",
          "text": [
            "initial value = 15\n",
            "changed value = 5\n",
            "final value = 15\n"
          ],
          "name": "stdout"
        }
      ]
    },
    {
      "cell_type": "markdown",
      "metadata": {
        "id": "BJjocBPh3P_h",
        "colab_type": "text"
      },
      "source": [
        "in the above example the value did not change because the in the function it has become a local variable and is a new variable with same name                \n",
        "a in the main code is a Global Variable                                         \n",
        "a in the function is a Local variable"
      ]
    },
    {
      "cell_type": "code",
      "metadata": {
        "id": "Fj6O39wg3jGL",
        "colab_type": "code",
        "outputId": "aee7069a-000b-47e6-d37e-48c1a3df5dea",
        "colab": {
          "base_uri": "https://localhost:8080/",
          "height": 67
        }
      },
      "source": [
        "#TO change the value of Global variable\n",
        "\n",
        "a = 15          #Global variable\n",
        "print(\"initial value = \"+str(a))\n",
        "\n",
        "def change_val():\n",
        "  global a         #accessing global variable using the key word global\n",
        "  a =5\n",
        "  print(\"changed value = \"+str(a))\n",
        "\n",
        "change_val()\n",
        "print(\"final value = \"+str(a))"
      ],
      "execution_count": 0,
      "outputs": [
        {
          "output_type": "stream",
          "text": [
            "initial value = 15\n",
            "changed value = 5\n",
            "final value = 5\n"
          ],
          "name": "stdout"
        }
      ]
    },
    {
      "cell_type": "markdown",
      "metadata": {
        "id": "WiwkDOuTKVQK",
        "colab_type": "text"
      },
      "source": [
        "##nested functons\n"
      ]
    },
    {
      "cell_type": "code",
      "metadata": {
        "id": "mudtmfyJKh-S",
        "colab_type": "code",
        "outputId": "e5212e7a-96bf-4e47-d390-52b3eaa4c635",
        "colab": {
          "base_uri": "https://localhost:8080/",
          "height": 34
        }
      },
      "source": [
        "# Define outer function\n",
        "def outer_func(word1):\n",
        "    # Define inner function\n",
        "    def inner(word):\n",
        "        \"\"\"Returns a string concatenated with '!!!'.\"\"\"\n",
        "        return word + '!!!'\n",
        "\n",
        "    return (inner(word1))\n",
        "\n",
        "print(outer_func('Hello'))"
      ],
      "execution_count": 0,
      "outputs": [
        {
          "output_type": "stream",
          "text": [
            "Hello!!!\n"
          ],
          "name": "stdout"
        }
      ]
    },
    {
      "cell_type": "markdown",
      "metadata": {
        "id": "BNeMEkViOa0m",
        "colab_type": "text"
      },
      "source": [
        "non local key word :                                                            \n",
        "to edit or change the variable of outer fuction from inner function"
      ]
    },
    {
      "cell_type": "code",
      "metadata": {
        "id": "ipaHCDcdOZax",
        "colab_type": "code",
        "outputId": "3e907b5d-a889-41b8-da76-0abb3449b380",
        "colab": {
          "base_uri": "https://localhost:8080/",
          "height": 354
        }
      },
      "source": [
        "# this example showes that val is not changed even though we called a function to change the val\n",
        "# Define outer function\n",
        "def outer_func(word1):\n",
        "     val = word1 \n",
        "     print(val)\n",
        "     #define inner function\n",
        "     def inner():\n",
        "       val = val.upper()\n",
        "       print(val)\n",
        "     inner()\n",
        "print(outer_func('Hello'))"
      ],
      "execution_count": 0,
      "outputs": [
        {
          "output_type": "stream",
          "text": [
            "Hello\n"
          ],
          "name": "stdout"
        },
        {
          "output_type": "error",
          "ename": "UnboundLocalError",
          "evalue": "ignored",
          "traceback": [
            "\u001b[0;31m---------------------------------------------------------------------------\u001b[0m",
            "\u001b[0;31mUnboundLocalError\u001b[0m                         Traceback (most recent call last)",
            "\u001b[0;32m<ipython-input-19-64633619dec4>\u001b[0m in \u001b[0;36m<module>\u001b[0;34m()\u001b[0m\n\u001b[1;32m      7\u001b[0m        \u001b[0mprint\u001b[0m\u001b[0;34m(\u001b[0m\u001b[0mval\u001b[0m\u001b[0;34m)\u001b[0m\u001b[0;34m\u001b[0m\u001b[0;34m\u001b[0m\u001b[0m\n\u001b[1;32m      8\u001b[0m      \u001b[0minner\u001b[0m\u001b[0;34m(\u001b[0m\u001b[0;34m)\u001b[0m\u001b[0;34m\u001b[0m\u001b[0;34m\u001b[0m\u001b[0m\n\u001b[0;32m----> 9\u001b[0;31m \u001b[0mprint\u001b[0m\u001b[0;34m(\u001b[0m\u001b[0mouter_func\u001b[0m\u001b[0;34m(\u001b[0m\u001b[0;34m'Hello'\u001b[0m\u001b[0;34m)\u001b[0m\u001b[0;34m)\u001b[0m\u001b[0;34m\u001b[0m\u001b[0;34m\u001b[0m\u001b[0m\n\u001b[0m",
            "\u001b[0;32m<ipython-input-19-64633619dec4>\u001b[0m in \u001b[0;36mouter_func\u001b[0;34m(word1)\u001b[0m\n\u001b[1;32m      6\u001b[0m        \u001b[0mval\u001b[0m \u001b[0;34m=\u001b[0m \u001b[0mval\u001b[0m\u001b[0;34m.\u001b[0m\u001b[0mupper\u001b[0m\u001b[0;34m(\u001b[0m\u001b[0;34m)\u001b[0m\u001b[0;34m\u001b[0m\u001b[0;34m\u001b[0m\u001b[0m\n\u001b[1;32m      7\u001b[0m        \u001b[0mprint\u001b[0m\u001b[0;34m(\u001b[0m\u001b[0mval\u001b[0m\u001b[0;34m)\u001b[0m\u001b[0;34m\u001b[0m\u001b[0;34m\u001b[0m\u001b[0m\n\u001b[0;32m----> 8\u001b[0;31m      \u001b[0minner\u001b[0m\u001b[0;34m(\u001b[0m\u001b[0;34m)\u001b[0m\u001b[0;34m\u001b[0m\u001b[0;34m\u001b[0m\u001b[0m\n\u001b[0m\u001b[1;32m      9\u001b[0m \u001b[0mprint\u001b[0m\u001b[0;34m(\u001b[0m\u001b[0mouter_func\u001b[0m\u001b[0;34m(\u001b[0m\u001b[0;34m'Hello'\u001b[0m\u001b[0;34m)\u001b[0m\u001b[0;34m)\u001b[0m\u001b[0;34m\u001b[0m\u001b[0;34m\u001b[0m\u001b[0m\n",
            "\u001b[0;32m<ipython-input-19-64633619dec4>\u001b[0m in \u001b[0;36minner\u001b[0;34m()\u001b[0m\n\u001b[1;32m      4\u001b[0m      \u001b[0;31m#define inner function\u001b[0m\u001b[0;34m\u001b[0m\u001b[0;34m\u001b[0m\u001b[0;34m\u001b[0m\u001b[0m\n\u001b[1;32m      5\u001b[0m      \u001b[0;32mdef\u001b[0m \u001b[0minner\u001b[0m\u001b[0;34m(\u001b[0m\u001b[0;34m)\u001b[0m\u001b[0;34m:\u001b[0m\u001b[0;34m\u001b[0m\u001b[0;34m\u001b[0m\u001b[0m\n\u001b[0;32m----> 6\u001b[0;31m        \u001b[0mval\u001b[0m \u001b[0;34m=\u001b[0m \u001b[0mval\u001b[0m\u001b[0;34m.\u001b[0m\u001b[0mupper\u001b[0m\u001b[0;34m(\u001b[0m\u001b[0;34m)\u001b[0m\u001b[0;34m\u001b[0m\u001b[0;34m\u001b[0m\u001b[0m\n\u001b[0m\u001b[1;32m      7\u001b[0m        \u001b[0mprint\u001b[0m\u001b[0;34m(\u001b[0m\u001b[0mval\u001b[0m\u001b[0;34m)\u001b[0m\u001b[0;34m\u001b[0m\u001b[0;34m\u001b[0m\u001b[0m\n\u001b[1;32m      8\u001b[0m      \u001b[0minner\u001b[0m\u001b[0;34m(\u001b[0m\u001b[0;34m)\u001b[0m\u001b[0;34m\u001b[0m\u001b[0;34m\u001b[0m\u001b[0m\n",
            "\u001b[0;31mUnboundLocalError\u001b[0m: local variable 'val' referenced before assignment"
          ]
        }
      ]
    },
    {
      "cell_type": "code",
      "metadata": {
        "id": "UPmnNaU_a5is",
        "colab_type": "code",
        "outputId": "e564c3a6-fdb9-4de3-b6a9-0e276abbca57",
        "colab": {
          "base_uri": "https://localhost:8080/",
          "height": 67
        }
      },
      "source": [
        "def outer_func(word1):\n",
        "     val = word1 \n",
        "     print(val)\n",
        "     #define inner function\n",
        "     def inner():\n",
        "       nonlocal val\n",
        "       val = val.upper()\n",
        "       print(val)\n",
        "     inner()\n",
        "temp = outer_func('Hello')\n",
        "print(temp)"
      ],
      "execution_count": 0,
      "outputs": [
        {
          "output_type": "stream",
          "text": [
            "Hello\n",
            "HELLO\n",
            "None\n"
          ],
          "name": "stdout"
        }
      ]
    },
    {
      "cell_type": "markdown",
      "metadata": {
        "id": "wfvYFE7-jASt",
        "colab_type": "text"
      },
      "source": [
        "###Default Arguments in a function:                                                \n",
        "as the says, if we dont mention the value for an argument to the function it takes the default value assigned to it                                          \n",
        "ex: power(n, pow = 1)...... we use equal to ( = ) sign to assign the default value"
      ]
    },
    {
      "cell_type": "code",
      "metadata": {
        "id": "8vw3fZLRjFAL",
        "colab_type": "code",
        "outputId": "d1e9bcf2-97f5-4c96-be74-55ff9adb6b0f",
        "colab": {
          "base_uri": "https://localhost:8080/",
          "height": 84
        }
      },
      "source": [
        "def my_func1(word2, nTimes = 1):\n",
        "  val1 = word2 * nTimes\n",
        "  print(val1)\n",
        "\n",
        "res = my_func1('hello')\n",
        "res1 = my_func1('hello', 5)\n",
        "print(res)\n",
        "print(res1)"
      ],
      "execution_count": 0,
      "outputs": [
        {
          "output_type": "stream",
          "text": [
            "hello\n",
            "hellohellohellohellohello\n",
            "None\n",
            "None\n"
          ],
          "name": "stdout"
        }
      ]
    },
    {
      "cell_type": "code",
      "metadata": {
        "id": "bMM54OA-lU39",
        "colab_type": "code",
        "colab": {}
      },
      "source": [
        "#default args function with multiple parameters\n",
        "def my_function2(word3, nTimes = 1, upper = False, length = False):\n",
        "  val2 = word3 * nTimes\n",
        "  \n",
        "  if upper == True:\n",
        "    val2 = val2.upper()\n",
        "  if length == True:\n",
        "    print(len(word3))\n",
        "  return val2"
      ],
      "execution_count": 0,
      "outputs": []
    },
    {
      "cell_type": "code",
      "metadata": {
        "id": "f0E3r6Ionbk1",
        "colab_type": "code",
        "outputId": "48450e8c-66f9-43fb-ffc0-b7251a3a61de",
        "colab": {
          "base_uri": "https://localhost:8080/",
          "height": 34
        }
      },
      "source": [
        "res3 = my_function2('hello')\n",
        "print(res3)"
      ],
      "execution_count": 0,
      "outputs": [
        {
          "output_type": "stream",
          "text": [
            "hello\n"
          ],
          "name": "stdout"
        }
      ]
    },
    {
      "cell_type": "code",
      "metadata": {
        "id": "l33ny76yndDn",
        "colab_type": "code",
        "outputId": "582f132b-863e-4e8a-c2f8-c9df0ac39bfc",
        "colab": {
          "base_uri": "https://localhost:8080/",
          "height": 50
        }
      },
      "source": [
        "res4 = my_function2('hello', upper = True, length = True)\n",
        "print(res4)"
      ],
      "execution_count": 0,
      "outputs": [
        {
          "output_type": "stream",
          "text": [
            "5\n",
            "HELLO\n"
          ],
          "name": "stdout"
        }
      ]
    },
    {
      "cell_type": "code",
      "metadata": {
        "id": "y2aEfm4Enc1S",
        "colab_type": "code",
        "outputId": "c216cab1-f943-4c3b-9505-2015c67c31c6",
        "colab": {
          "base_uri": "https://localhost:8080/",
          "height": 50
        }
      },
      "source": [
        "res5 = my_function2('hello', length = True)\n",
        "print(res5)"
      ],
      "execution_count": 0,
      "outputs": [
        {
          "output_type": "stream",
          "text": [
            "5\n",
            "hello\n"
          ],
          "name": "stdout"
        }
      ]
    },
    {
      "cell_type": "markdown",
      "metadata": {
        "id": "okcjnORBGTbi",
        "colab_type": "text"
      },
      "source": [
        "### functions with variable lenght arguments:                                       \n",
        " this allows us to pass variable no of arguments to the function\n",
        "1.   *args :  only takes same type values\n",
        "2.   **kwargs  :  takes the key value pairs  : [ kwargs is a dictionary ]\n"
      ]
    },
    {
      "cell_type": "code",
      "metadata": {
        "id": "z5DrieRGIyB8",
        "colab_type": "code",
        "colab": {
          "base_uri": "https://localhost:8080/",
          "height": 34
        },
        "outputId": "45cf1b84-5e0d-466f-cd56-b148bf4b5162"
      },
      "source": [
        "#example for *args\n",
        "def my_funct(*args):\n",
        "  sum = 0\n",
        "  for i in args:\n",
        "    sum +=i\n",
        "  print(sum)\n",
        "my_funct(1, 2, 3, 4, 5, 6)"
      ],
      "execution_count": 52,
      "outputs": [
        {
          "output_type": "stream",
          "text": [
            "21\n"
          ],
          "name": "stdout"
        }
      ]
    },
    {
      "cell_type": "code",
      "metadata": {
        "id": "mgSvAG95Je1U",
        "colab_type": "code",
        "colab": {
          "base_uri": "https://localhost:8080/",
          "height": 34
        },
        "outputId": "2cd9345d-240b-4c06-fa47-22185e160c25"
      },
      "source": [
        "#example for *args\n",
        "def my_funct(*args):\n",
        "  sum = \" \"\n",
        "  for i in args:\n",
        "    sum = sum + i\n",
        "  print(sum)\n",
        "my_funct('a', 'b', 'c')"
      ],
      "execution_count": 56,
      "outputs": [
        {
          "output_type": "stream",
          "text": [
            " abc\n"
          ],
          "name": "stdout"
        }
      ]
    },
    {
      "cell_type": "code",
      "metadata": {
        "id": "A5aZbhf3J3gt",
        "colab_type": "code",
        "colab": {
          "base_uri": "https://localhost:8080/",
          "height": 118
        },
        "outputId": "00902e16-f0e8-4e89-ef11-e0463423ffa7"
      },
      "source": [
        "#example for *args :  \n",
        "def my_funct(*args):\n",
        "  sum = \" \"\n",
        "  for i in args:\n",
        "    print(i)\n",
        "my_funct('a', 'b', 'c', 1, 2, 3)"
      ],
      "execution_count": 61,
      "outputs": [
        {
          "output_type": "stream",
          "text": [
            "a\n",
            "b\n",
            "c\n",
            "1\n",
            "2\n",
            "3\n"
          ],
          "name": "stdout"
        }
      ]
    },
    {
      "cell_type": "code",
      "metadata": {
        "id": "cdYW2MCJKeG7",
        "colab_type": "code",
        "colab": {
          "base_uri": "https://localhost:8080/",
          "height": 50
        },
        "outputId": "9ab0755a-20cd-4166-a3aa-6b667167f46a"
      },
      "source": [
        "#example for **kwargs\n",
        "def func(**kwargs):\n",
        "  for key, value in kwargs.items():\n",
        "    print(key+' : '+value)\n",
        "\n",
        "func(firstname = \"suraj\", lastname = \"kande\")"
      ],
      "execution_count": 60,
      "outputs": [
        {
          "output_type": "stream",
          "text": [
            "firstname : suraj\n",
            "lastname : kande\n"
          ],
          "name": "stdout"
        }
      ]
    }
  ]
}
