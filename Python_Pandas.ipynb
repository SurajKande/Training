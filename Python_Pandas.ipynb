{
  "nbformat": 4,
  "nbformat_minor": 0,
  "metadata": {
    "colab": {
      "name": "Python_Pandas.ipynb",
      "provenance": [],
      "authorship_tag": "ABX9TyNC1b5RAFW3UfSrIwIJfpP3",
      "include_colab_link": true
    },
    "kernelspec": {
      "name": "python3",
      "display_name": "Python 3"
    }
  },
  "cells": [
    {
      "cell_type": "markdown",
      "metadata": {
        "id": "view-in-github",
        "colab_type": "text"
      },
      "source": [
        "<a href=\"https://colab.research.google.com/github/SurajKande/Training/blob/master/Python_Pandas.ipynb\" target=\"_parent\"><img src=\"https://colab.research.google.com/assets/colab-badge.svg\" alt=\"Open In Colab\"/></a>"
      ]
    },
    {
      "cell_type": "markdown",
      "metadata": {
        "id": "xUEmdnFq3o1I",
        "colab_type": "text"
      },
      "source": [
        "Pandas is an open source library, providing high-performance, easy-to-use data structures and data analysis tools for Python.\n",
        "\n",
        "The DataFrame is one of Pandas' most important data structures. It's basically a way to store tabular data where you can label the rows and the columns. One way to build a DataFrame is from a dictionary"
      ]
    },
    {
      "cell_type": "code",
      "metadata": {
        "id": "aeERpI3S3ht-",
        "colab_type": "code",
        "colab": {}
      },
      "source": [
        "# Pre-defined lists\n",
        "names = ['United States', 'Australia', 'Japan', 'India', 'Russia', 'Morocco', 'Egypt']\n",
        "dr =  [True, False, False, False, True, True, True]\n",
        "cpc = [809, 731, 588, 18, 200, 70, 45]\n",
        "\n",
        "# Import pandas as pd\n",
        "import pandas as pd\n",
        "\n",
        "# Create dictionary my_dict with three key:value pairs: my_dict\n",
        "my_dict={'country':names,\n",
        "          'drives_right':dr,\n",
        "          'cars_per_cap':cpc }\n",
        "\n",
        "# Build a DataFrame cars from my_dict: cars\n",
        "df = pd.DataFrame(my_dict)\n",
        "\n",
        "# Specify row labels of cars\n",
        "row_labels = ['US', 'AUS', 'JPN', 'IN', 'RU', 'MOR', 'EG']\n",
        "cars.index = row_labels"
      ],
      "execution_count": 0,
      "outputs": []
    },
    {
      "cell_type": "markdown",
      "metadata": {
        "id": "3S0lEtbc4jgs",
        "colab_type": "text"
      },
      "source": [
        "Putting data in a dictionary and then building a DataFrame works, but it's not very efficient. What if you're dealing with millions of observations? In those cases, the data is typically available as files with a regular structure. One of those file types is the CSV file, "
      ]
    },
    {
      "cell_type": "markdown",
      "metadata": {
        "id": "khGCfJb94Z0V",
        "colab_type": "text"
      },
      "source": [
        "\n",
        "to import CSV data into Python as a Pandas DataFrame you can use read_csv()."
      ]
    },
    {
      "cell_type": "code",
      "metadata": {
        "id": "0Z6jXDyW4bzp",
        "colab_type": "code",
        "colab": {}
      },
      "source": [
        "#to read data from a csv file\n",
        "cars = pd.read_csv('cars.csv')"
      ],
      "execution_count": 0,
      "outputs": []
    },
    {
      "cell_type": "markdown",
      "metadata": {
        "id": "9uMa4sEM4toV",
        "colab_type": "text"
      },
      "source": [
        "index_col, an argument of read_csv(), that you can use to specify which column  \n",
        "in the CSV file should be used as a row label"
      ]
    },
    {
      "cell_type": "code",
      "metadata": {
        "id": "5nnjvCKB42L9",
        "colab_type": "code",
        "colab": {}
      },
      "source": [
        "cars = pd.read_csv('cars.csv',index_col=0)"
      ],
      "execution_count": 0,
      "outputs": []
    },
    {
      "cell_type": "markdown",
      "metadata": {
        "id": "XBqxXVHM4_uz",
        "colab_type": "text"
      },
      "source": [
        "we can index and select Pandas DataFrames in many different ways.              \n",
        "The simplest way is to use Square brackets."
      ]
    },
    {
      "cell_type": "code",
      "metadata": {
        "id": "f9KKGHZc5JDK",
        "colab_type": "code",
        "colab": {}
      },
      "source": [
        "# Print out country column as Pandas Series\n",
        "print(cars[\"country\"])\n",
        "\n",
        "# Print out country column as Pandas DataFrame\n",
        "print(cars[[\"country\"]])\n",
        "\n",
        "# Print out DataFrame with country and drives_right columns\n",
        "print(cars[[\"country\", \"drives_right\"]])"
      ],
      "execution_count": 0,
      "outputs": []
    },
    {
      "cell_type": "markdown",
      "metadata": {
        "id": "hYtbHSul5XG4",
        "colab_type": "text"
      },
      "source": [
        "Pandas Series is a one-dimensional labeled array capable of holding data of any type (integer, string, float, python objects, etc.).\n",
        "\n",
        " The axis labels are collectively called index. Pandas Series is nothing but a column in an excel sheet."
      ]
    },
    {
      "cell_type": "code",
      "metadata": {
        "id": "p7DFDNni5eKG",
        "colab_type": "code",
        "colab": {}
      },
      "source": [
        "# Print out first 3 observations\n",
        "print(cars[0:3])\n",
        "\n",
        "# Print out fourth, fifth and sixth observation\n",
        "print(cars[3:6])"
      ],
      "execution_count": 0,
      "outputs": []
    },
    {
      "cell_type": "markdown",
      "metadata": {
        "id": "ap_ocMjI5yGg",
        "colab_type": "text"
      },
      "source": [
        "other methods to access the data farme is using **loc and iloc**\n",
        "\n",
        "\n",
        "With loc and iloc you can do practically any data selection operation on DataFrames you can think of.\n",
        "\n",
        " **loc** is label-based, which means that you have to specify rows and columns based on their row and column labels. \n",
        " \n",
        " **iloc** is integer index based, so you have to specify rows and columns by their integer index"
      ]
    },
    {
      "cell_type": "code",
      "metadata": {
        "id": "erhucJww59MJ",
        "colab_type": "code",
        "colab": {}
      },
      "source": [
        "# Print out observation for Japan\n",
        "print(cars.loc['JPN'])    #using loc to print \n",
        "print(cars.iloc[2])       #using iloc to print \n",
        "\n",
        "# Print out observations for Australia and Egypt\n",
        "print(cars.loc[[\"AUS\",\"EG\"]])\n",
        "print(cars.iloc[[1,6]])\n",
        "\n",
        "# Print out drives_right value of Morocco\n",
        "print(cars.loc[\"MOR\"][\"drives_right\"])\n",
        "\n",
        "# Print sub-DataFrame\n",
        "print(cars.loc[[\"RU\", \"MOR\"], [\"country\", \"drives_right\"]])\n",
        "\n",
        "\n",
        "# Print out drives_right column as Series\n",
        "print(cars[\"drives_right\"])\n",
        "\n",
        "# Print out drives_right column as DataFrame\n",
        "print(cars[[\"drives_right\"]])\n",
        "\n",
        "# Print out cars_per_cap and drives_right as DataFrame\n",
        "print(cars[[\"cars_per_cap\", \"drives_right\"]])"
      ],
      "execution_count": 0,
      "outputs": []
    },
    {
      "cell_type": "code",
      "metadata": {
        "id": "gbpYpX3T9Jyj",
        "colab_type": "code",
        "colab": {}
      },
      "source": [
        "# Extract drives_right column as Series\n",
        "dr = cars['drives_right']\n",
        "\n",
        "# Use dr to subset cars: sel\n",
        "sel = cars[dr]\n",
        "    #or\n",
        "sel = cars[cars['drives_right']]  # one liner no need of the variable\n",
        "#OUTPUT:\n",
        "#              cars_per_cap         country    drives_right\n",
        "#          US            809   United States          True\n",
        "#          RU            200          Russia          True\n",
        "#          MOR            70         Morocco          True\n",
        "#          EG             45           Egypt          True\n",
        "\n",
        "# Create car_maniac: observations that have a cars_per_cap over 500\n",
        "cars_maniac = cars[cars[\"cars_per_cap\"] > 500]"
      ],
      "execution_count": 0,
      "outputs": []
    },
    {
      "cell_type": "markdown",
      "metadata": {
        "id": "KS0YC577-Q7o",
        "colab_type": "text"
      },
      "source": [
        " np.logical_and(), np.logical_or() and np.logical_not(),\n",
        " the Numpy variants of the and, or and not operators,\n",
        " \n",
        "  those can also use them on Pandas Series to do more advanced filtering operations."
      ]
    },
    {
      "cell_type": "code",
      "metadata": {
        "id": "GNf51ufk-Vsh",
        "colab_type": "code",
        "colab": {}
      },
      "source": [
        "\n",
        "# Create medium: observations with cars_per_cap between 100 and 500\n",
        "medium = cars[np.logical_and(cars[\"cars_per_cap\"]>100,cars[\"cars_per_cap\"]<500)]"
      ],
      "execution_count": 0,
      "outputs": []
    },
    {
      "cell_type": "code",
      "metadata": {
        "id": "3EfcHyVp-UIS",
        "colab_type": "code",
        "colab": {}
      },
      "source": [
        ""
      ],
      "execution_count": 0,
      "outputs": []
    }
  ]
}