{
  "nbformat": 4,
  "nbformat_minor": 0,
  "metadata": {
    "colab": {
      "name": "python_Dictionaries.ipynb",
      "provenance": [],
      "authorship_tag": "ABX9TyMDoxnojTd2xpIW64X0fPqY",
      "include_colab_link": true
    },
    "kernelspec": {
      "name": "python3",
      "display_name": "Python 3"
    }
  },
  "cells": [
    {
      "cell_type": "markdown",
      "metadata": {
        "id": "view-in-github",
        "colab_type": "text"
      },
      "source": [
        "<a href=\"https://colab.research.google.com/github/SurajKande/Training/blob/master/python_Dictionaries.ipynb\" target=\"_parent\"><img src=\"https://colab.research.google.com/assets/colab-badge.svg\" alt=\"Open In Colab\"/></a>"
      ]
    },
    {
      "cell_type": "markdown",
      "metadata": {
        "id": "XdCtslFj06sv",
        "colab_type": "text"
      },
      "source": [
        "Dictionaries are a dayatype unlike lists they have something like keyvalue pairs\n",
        "\n",
        "to initilize a dictionary                                                        \n",
        "ex: my_dict = { key1:val1, key2,val2, .......}"
      ]
    },
    {
      "cell_type": "code",
      "metadata": {
        "id": "yJZkByqq0ei0",
        "colab_type": "code",
        "colab": {}
      },
      "source": [
        "# create a dictionary europe from string in countries and capitals\n",
        "europe = { 'spain':'madrid', 'france':'paris', 'germany':'berlin', 'norway':'oslo'}"
      ],
      "execution_count": 0,
      "outputs": []
    },
    {
      "cell_type": "markdown",
      "metadata": {
        "id": "eqDlwKel02B1",
        "colab_type": "text"
      },
      "source": [
        "Access the dictionariy values we use the keys to access the values"
      ]
    },
    {
      "cell_type": "code",
      "metadata": {
        "id": "nYiVXVwC3RP8",
        "colab_type": "code",
        "colab": {}
      },
      "source": [
        ""
      ],
      "execution_count": 0,
      "outputs": []
    },
    {
      "cell_type": "code",
      "metadata": {
        "id": "Y_CKPLTV1Mn7",
        "colab_type": "code",
        "colab": {}
      },
      "source": [
        "# Print out the keys in europe\n",
        "print(europe.keys())\n",
        "     #OUTPUT: 'spain' , 'france', 'germany', 'norwar'\n",
        "\n",
        "# Print out value that belongs to key 'norway'\n",
        "print(europe['norway'])     \n",
        "      #OUTPUT: 'oslo'"
      ],
      "execution_count": 0,
      "outputs": []
    },
    {
      "cell_type": "markdown",
      "metadata": {
        "id": "sY4NA5FC2Bbt",
        "colab_type": "text"
      },
      "source": [
        "Dictionary Manipulation"
      ]
    },
    {
      "cell_type": "code",
      "metadata": {
        "id": "qfONBKrX2CMd",
        "colab_type": "code",
        "colab": {}
      },
      "source": [
        "# Add italy to europe\n",
        "europe['italy']='rome'\n",
        "\n",
        "# to check if italy got added in europe\n",
        "print('italy' in europe)\n",
        "\n",
        "# Add poland and its capital warsaw to europe dictionanry\n",
        "europe['poland'] = 'warsaw'\n",
        "\n",
        "# Update capital of germany\n",
        "europe['germany'] = 'Berlin'\n",
        "\n",
        "# Remove poland\n",
        "del(europe['poland'])\n",
        "\n",
        "# Create sub-dictionary data\n",
        "#ex: \n",
        "data = {'capital':'rome', 'population':59.83}\n",
        "europe['italy'] = data\n"
      ],
      "execution_count": 0,
      "outputs": []
    },
    {
      "cell_type": "markdown",
      "metadata": {
        "id": "6-Fb-BpUAbtL",
        "colab_type": "text"
      },
      "source": [
        "Looping over Dictionaries\n",
        "\n",
        "In Python 3, you can also use items() method to loop over a dictionary:"
      ]
    },
    {
      "cell_type": "code",
      "metadata": {
        "id": "ndo9AxUmAeQ-",
        "colab_type": "code",
        "colab": {}
      },
      "source": [
        "# Iterate over europe\n",
        "for k,v in europe.items():\n",
        "    print(\"the capital of \"+k+\" is \"+v)\n",
        "\n",
        "for k in europe:\n",
        "    print(\"the capital of \"+k+\" is \"+europe[k])\n",
        "#OUTPUT:\n",
        "#      the capital of poland is warsaw\n",
        "#      the capital of italy is rome\n",
        "#      the capital of germany is berlin\n",
        "#      the capital of france is paris\n",
        "#      the capital of norway is oslo\n",
        "#      the capital of spain is madrid"
      ],
      "execution_count": 0,
      "outputs": []
    }
  ]
}