{
  "nbformat": 4,
  "nbformat_minor": 0,
  "metadata": {
    "colab": {
      "name": "python_iterators_.ipynb",
      "provenance": [],
      "collapsed_sections": [],
      "authorship_tag": "ABX9TyNzWg9vo5SHVK5V4DXghbS9",
      "include_colab_link": true
    },
    "kernelspec": {
      "name": "python3",
      "display_name": "Python 3"
    }
  },
  "cells": [
    {
      "cell_type": "markdown",
      "metadata": {
        "id": "view-in-github",
        "colab_type": "text"
      },
      "source": [
        "<a href=\"https://colab.research.google.com/github/SurajKande/Training/blob/master/python_iterators_.ipynb\" target=\"_parent\"><img src=\"https://colab.research.google.com/assets/colab-badge.svg\" alt=\"Open In Colab\"/></a>"
      ]
    },
    {
      "cell_type": "markdown",
      "metadata": {
        "id": "OKDlGUsWgY0m",
        "colab_type": "text"
      },
      "source": [
        "#Iterators                                                                      \n"
      ]
    },
    {
      "cell_type": "code",
      "metadata": {
        "id": "dEZOpQ8geFtj",
        "colab_type": "code",
        "colab": {
          "base_uri": "https://localhost:8080/",
          "height": 67
        },
        "outputId": "b4693155-b579-4271-a326-e89dd84728c8"
      },
      "source": [
        "#iterating over a list \n",
        "temp = ['a', 'b', 'c']\n",
        "for i in temp:\n",
        "  print(i)"
      ],
      "execution_count": 1,
      "outputs": [
        {
          "output_type": "stream",
          "text": [
            "a\n",
            "b\n",
            "c\n"
          ],
          "name": "stdout"
        }
      ]
    },
    {
      "cell_type": "code",
      "metadata": {
        "id": "j9t9t7j3g3Ds",
        "colab_type": "code",
        "colab": {
          "base_uri": "https://localhost:8080/",
          "height": 202
        },
        "outputId": "e202dc7f-6159-456d-af73-ed1d6c41f22a"
      },
      "source": [
        "#iterating over a string \n",
        "temp1 = \"hello world\"\n",
        "for i in temp1:\n",
        "  print(i)"
      ],
      "execution_count": 3,
      "outputs": [
        {
          "output_type": "stream",
          "text": [
            "h\n",
            "e\n",
            "l\n",
            "l\n",
            "o\n",
            " \n",
            "w\n",
            "o\n",
            "r\n",
            "l\n",
            "d\n"
          ],
          "name": "stdout"
        }
      ]
    },
    {
      "cell_type": "code",
      "metadata": {
        "id": "C5T98wOvhAa7",
        "colab_type": "code",
        "colab": {
          "base_uri": "https://localhost:8080/",
          "height": 202
        },
        "outputId": "56af3462-d770-43e9-9175-dc19267c715c"
      },
      "source": [
        "#iterating over a range of numbers\n",
        "for i in range(10,21):             #syntax: range(<included> , <excluded>)  in the example 21 is excluded\n",
        "  print(i)"
      ],
      "execution_count": 4,
      "outputs": [
        {
          "output_type": "stream",
          "text": [
            "10\n",
            "11\n",
            "12\n",
            "13\n",
            "14\n",
            "15\n",
            "16\n",
            "17\n",
            "18\n",
            "19\n",
            "20\n"
          ],
          "name": "stdout"
        }
      ]
    },
    {
      "cell_type": "markdown",
      "metadata": {
        "id": "G6ylCTiuiw1H",
        "colab_type": "text"
      },
      "source": [
        "\n",
        "*   Iterables:  objects that have iter method associated to them, when this iter method is used an iterator object is created is  ex: lists, dictionary, tuples, set, strings , file connections, etc.                                  \n",
        "[  this is what the for loop used, it creates the iterator object for the iterable and iterates over them using next() method ]                                     \n",
        "\n",
        "* Iterators:   it is an object that has an method named next() used to get the values consecutively\n"
      ]
    },
    {
      "cell_type": "code",
      "metadata": {
        "id": "qCTc7dKJhanN",
        "colab_type": "code",
        "colab": {
          "base_uri": "https://localhost:8080/",
          "height": 34
        },
        "outputId": "6253e958-879d-420e-bbe1-79b46ccfc7ea"
      },
      "source": [
        "#example of creating and using an iterator object for string\n",
        "word = \"hello\"\n",
        "it = iter(word)   # iterator obj for the string is created\n",
        "next(it)          # we pass the iterator obj to the next method, it returns the value consecutively"
      ],
      "execution_count": 6,
      "outputs": [
        {
          "output_type": "execute_result",
          "data": {
            "text/plain": [
              "'h'"
            ]
          },
          "metadata": {
            "tags": []
          },
          "execution_count": 6
        }
      ]
    },
    {
      "cell_type": "code",
      "metadata": {
        "id": "EzJFLrR0ntng",
        "colab_type": "code",
        "colab": {
          "base_uri": "https://localhost:8080/",
          "height": 34
        },
        "outputId": "ad925907-1452-41d5-cd90-662b44b89849"
      },
      "source": [
        "next(it)"
      ],
      "execution_count": 7,
      "outputs": [
        {
          "output_type": "execute_result",
          "data": {
            "text/plain": [
              "'e'"
            ]
          },
          "metadata": {
            "tags": []
          },
          "execution_count": 7
        }
      ]
    },
    {
      "cell_type": "code",
      "metadata": {
        "id": "51GFrJ0hnweG",
        "colab_type": "code",
        "colab": {
          "base_uri": "https://localhost:8080/",
          "height": 34
        },
        "outputId": "08eba99e-5640-446d-ab13-91867bb6743d"
      },
      "source": [
        "next(it)"
      ],
      "execution_count": 8,
      "outputs": [
        {
          "output_type": "execute_result",
          "data": {
            "text/plain": [
              "'l'"
            ]
          },
          "metadata": {
            "tags": []
          },
          "execution_count": 8
        }
      ]
    },
    {
      "cell_type": "code",
      "metadata": {
        "id": "pVtHqlhAnz6s",
        "colab_type": "code",
        "colab": {
          "base_uri": "https://localhost:8080/",
          "height": 34
        },
        "outputId": "ffb7a8ff-e490-40c7-dc55-e7c5c7c094ed"
      },
      "source": [
        "next(it)"
      ],
      "execution_count": 9,
      "outputs": [
        {
          "output_type": "execute_result",
          "data": {
            "text/plain": [
              "'l'"
            ]
          },
          "metadata": {
            "tags": []
          },
          "execution_count": 9
        }
      ]
    },
    {
      "cell_type": "code",
      "metadata": {
        "id": "wG9UNeWxn2OI",
        "colab_type": "code",
        "colab": {
          "base_uri": "https://localhost:8080/",
          "height": 34
        },
        "outputId": "c988666d-0fe9-4716-d694-231925605867"
      },
      "source": [
        "next(it)"
      ],
      "execution_count": 10,
      "outputs": [
        {
          "output_type": "execute_result",
          "data": {
            "text/plain": [
              "'o'"
            ]
          },
          "metadata": {
            "tags": []
          },
          "execution_count": 10
        }
      ]
    },
    {
      "cell_type": "code",
      "metadata": {
        "id": "V9eNwMW5n4FV",
        "colab_type": "code",
        "colab": {
          "base_uri": "https://localhost:8080/",
          "height": 162
        },
        "outputId": "9e3ea72c-13a0-4926-e805-9da56db6e7cc"
      },
      "source": [
        "next(it)   # when there are no values left it throws an iteration error "
      ],
      "execution_count": 11,
      "outputs": [
        {
          "output_type": "error",
          "ename": "StopIteration",
          "evalue": "ignored",
          "traceback": [
            "\u001b[0;31m---------------------------------------------------------------------------\u001b[0m",
            "\u001b[0;31mStopIteration\u001b[0m                             Traceback (most recent call last)",
            "\u001b[0;32m<ipython-input-11-bc1ab118995a>\u001b[0m in \u001b[0;36m<module>\u001b[0;34m()\u001b[0m\n\u001b[0;32m----> 1\u001b[0;31m \u001b[0mnext\u001b[0m\u001b[0;34m(\u001b[0m\u001b[0mit\u001b[0m\u001b[0;34m)\u001b[0m\u001b[0;34m\u001b[0m\u001b[0;34m\u001b[0m\u001b[0m\n\u001b[0m",
            "\u001b[0;31mStopIteration\u001b[0m: "
          ]
        }
      ]
    },
    {
      "cell_type": "code",
      "metadata": {
        "id": "0xpnMO8GoOO0",
        "colab_type": "code",
        "colab": {
          "base_uri": "https://localhost:8080/",
          "height": 34
        },
        "outputId": "731ee6bb-8215-4e5b-8e4d-b8f0611682e3"
      },
      "source": [
        "#or to print all at once use star operator\n",
        "word1 = \"world\"\n",
        "it1 = iter(word1)\n",
        "print(*it1)"
      ],
      "execution_count": 14,
      "outputs": [
        {
          "output_type": "stream",
          "text": [
            "w o r l d\n"
          ],
          "name": "stdout"
        }
      ]
    },
    {
      "cell_type": "code",
      "metadata": {
        "id": "0z3AHHNfowV9",
        "colab_type": "code",
        "colab": {
          "base_uri": "https://localhost:8080/",
          "height": 168
        },
        "outputId": "ec39b10f-870e-4ee0-aaad-41f1dab9adf8"
      },
      "source": [
        "#example 1\n",
        "# Create a list of strings: flash\n",
        "abcd = ['a', 'b', 'c', 'd']\n",
        "\n",
        "# Print each list item in flash using a for loop\n",
        "for item in abcd:\n",
        "    print(item)\n",
        "\n",
        "print(\"  \")\n",
        "# Print each list item in flash using Iterator\n",
        "res = iter(abcd)       # creating Iterator \n",
        "\n",
        "print(next(res))        # Print each item from the iterator\n",
        "print(next(res))\n",
        "print(next(res))\n",
        "print(next(res))\n"
      ],
      "execution_count": 17,
      "outputs": [
        {
          "output_type": "stream",
          "text": [
            "a\n",
            "b\n",
            "c\n",
            "d\n",
            "  \n",
            "a\n",
            "b\n",
            "c\n",
            "d\n"
          ],
          "name": "stdout"
        }
      ]
    },
    {
      "cell_type": "code",
      "metadata": {
        "id": "Xo2xdVqxppOE",
        "colab_type": "code",
        "colab": {
          "base_uri": "https://localhost:8080/",
          "height": 202
        },
        "outputId": "e27b421e-27b8-4ec8-f8fa-6491ada8db22"
      },
      "source": [
        "# Loop over range(3) and print the values\n",
        "for i in range(5):\n",
        "    print(i)\n",
        "\n",
        "# Create an iterator for range(5)\n",
        "res1 = iter(range( 5))\n",
        "\n",
        "print(\"  \")\n",
        "\n",
        "# Print the 5 values \n",
        "print(next(res1))        # Print each item from the iterator\n",
        "print(next(res1))\n",
        "print(next(res1))\n",
        "print(next(res1))\n",
        "print(next(res1))\n"
      ],
      "execution_count": 20,
      "outputs": [
        {
          "output_type": "stream",
          "text": [
            "0\n",
            "1\n",
            "2\n",
            "3\n",
            "4\n",
            "  \n",
            "0\n",
            "1\n",
            "2\n",
            "3\n",
            "4\n"
          ],
          "name": "stdout"
        }
      ]
    },
    {
      "cell_type": "markdown",
      "metadata": {
        "id": "6V11ETwuUPyx",
        "colab_type": "text"
      },
      "source": [
        "###enumerate :                                                            \n",
        "takes an iterable as an argument an returns a enumerate object   \n",
        "to access its elements convert it into list                                   \n",
        "[ output is a list of pairs of items with their index ]                         \n",
        "\n",
        "\n",
        "*   enumerate() is also a iterable\n",
        "\n"
      ]
    },
    {
      "cell_type": "code",
      "metadata": {
        "id": "RwK8xUeHVexI",
        "colab_type": "code",
        "colab": {
          "base_uri": "https://localhost:8080/",
          "height": 34
        },
        "outputId": "1120e9bb-c642-481c-cfb8-31e08dce92ad"
      },
      "source": [
        "abcd = ['a', 'b', 'c', 'd']\n",
        "res = enumerate(abcd)\n",
        "print(res)"
      ],
      "execution_count": 1,
      "outputs": [
        {
          "output_type": "stream",
          "text": [
            "<enumerate object at 0x7f271af4d4c8>\n"
          ],
          "name": "stdout"
        }
      ]
    },
    {
      "cell_type": "code",
      "metadata": {
        "id": "P8cloDHaVpQE",
        "colab_type": "code",
        "colab": {
          "base_uri": "https://localhost:8080/",
          "height": 34
        },
        "outputId": "5c1f69be-774f-4bc6-f127-6b387011e4e8"
      },
      "source": [
        "abcd = ['a', 'b', 'c', 'd']\n",
        "res = enumerate(abcd)\n",
        "res_list = list(res)\n",
        "print(res_list)"
      ],
      "execution_count": 2,
      "outputs": [
        {
          "output_type": "stream",
          "text": [
            "[(0, 'a'), (1, 'b'), (2, 'c'), (3, 'd')]\n"
          ],
          "name": "stdout"
        }
      ]
    },
    {
      "cell_type": "code",
      "metadata": {
        "id": "uxEpVYbZWRix",
        "colab_type": "code",
        "colab": {
          "base_uri": "https://localhost:8080/",
          "height": 84
        },
        "outputId": "8388f0ac-7721-4e4f-8cfa-643885b1901f"
      },
      "source": [
        "#example to show that enumerate can be iterated\n",
        "abcd = ['a', 'b', 'c', 'd']\n",
        "for key, value in enumerate(abcd):\n",
        "  print(key, value)"
      ],
      "execution_count": 3,
      "outputs": [
        {
          "output_type": "stream",
          "text": [
            "0 a\n",
            "1 b\n",
            "2 c\n",
            "3 d\n"
          ],
          "name": "stdout"
        }
      ]
    },
    {
      "cell_type": "code",
      "metadata": {
        "id": "XzMoG4GIW3ug",
        "colab_type": "code",
        "colab": {
          "base_uri": "https://localhost:8080/",
          "height": 84
        },
        "outputId": "0f8a5aa2-d11e-4bd2-a165-362ff1c5a625"
      },
      "source": [
        "#example to change the index starting value \n",
        "abcd = ['a', 'b', 'c', 'd']\n",
        "for key, value in enumerate(abcd, start = 100):\n",
        "  print(key, value)"
      ],
      "execution_count": 4,
      "outputs": [
        {
          "output_type": "stream",
          "text": [
            "100 a\n",
            "101 b\n",
            "102 c\n",
            "103 d\n"
          ],
          "name": "stdout"
        }
      ]
    },
    {
      "cell_type": "markdown",
      "metadata": {
        "id": "PKATedk2UPOF",
        "colab_type": "text"
      },
      "source": [
        "###zip :                                                            \n",
        "takes an arbitrary iterables as an argument an returns a zip object   \n",
        "to access its elements convert it into list                                   \n",
        "[ output is a list of pairs of items attached ]                         \n",
        "\n",
        "\n",
        "*   zip() is also a iterable\n",
        "\n"
      ]
    },
    {
      "cell_type": "code",
      "metadata": {
        "id": "P4dWf5lmXXHU",
        "colab_type": "code",
        "colab": {
          "base_uri": "https://localhost:8080/",
          "height": 34
        },
        "outputId": "751f5170-3e26-4597-c147-68229b7388d9"
      },
      "source": [
        "abcd = ['a', 'b', 'c', 'd']\n",
        "ABCD = ['A', 'B', 'C', 'D']\n",
        "res1 = zip(abcd, ABCD)\n",
        "print(res1)"
      ],
      "execution_count": 5,
      "outputs": [
        {
          "output_type": "stream",
          "text": [
            "<zip object at 0x7f271a69c988>\n"
          ],
          "name": "stdout"
        }
      ]
    },
    {
      "cell_type": "code",
      "metadata": {
        "id": "TctBZ9nlXmI0",
        "colab_type": "code",
        "colab": {
          "base_uri": "https://localhost:8080/",
          "height": 34
        },
        "outputId": "134a82f7-59b3-4c78-e4c7-c61645dc7308"
      },
      "source": [
        "abcd = ['a', 'b', 'c', 'd']\n",
        "ABCD = ['A', 'B', 'C', 'D']\n",
        "res1 = list(zip(abcd, ABCD))    #converting into list \n",
        "print(res1)"
      ],
      "execution_count": 6,
      "outputs": [
        {
          "output_type": "stream",
          "text": [
            "[('a', 'A'), ('b', 'B'), ('c', 'C'), ('d', 'D')]\n"
          ],
          "name": "stdout"
        }
      ]
    },
    {
      "cell_type": "code",
      "metadata": {
        "id": "nY1TVRMvXqa6",
        "colab_type": "code",
        "colab": {
          "base_uri": "https://localhost:8080/",
          "height": 34
        },
        "outputId": "faaa0aa4-b6da-40bc-c519-fcd7afb2edab"
      },
      "source": [
        "abcd = ['a', 'b', 'c', 'd']\n",
        "ABCD = ['A', 'B', 'C', 'D']\n",
        "num = [1, 2, 3, 4]\n",
        "res1 = list(zip(abcd, ABCD, num))    #converting into list \n",
        "print(res1)"
      ],
      "execution_count": 7,
      "outputs": [
        {
          "output_type": "stream",
          "text": [
            "[('a', 'A', 1), ('b', 'B', 2), ('c', 'C', 3), ('d', 'D', 4)]\n"
          ],
          "name": "stdout"
        }
      ]
    },
    {
      "cell_type": "code",
      "metadata": {
        "id": "6nJyxVMbX-J0",
        "colab_type": "code",
        "colab": {
          "base_uri": "https://localhost:8080/",
          "height": 84
        },
        "outputId": "fd55ebdf-7f8f-4878-c5e8-9828ef696a1a"
      },
      "source": [
        "#example to show that enumerate can be iterated\n",
        "abcd = ['a', 'b', 'c', 'd']\n",
        "ABCD = ['A', 'B', 'C', 'D']\n",
        "\n",
        "for i  in zip(abcd, ABCD):\n",
        "  print(i)"
      ],
      "execution_count": 8,
      "outputs": [
        {
          "output_type": "stream",
          "text": [
            "('a', 'A')\n",
            "('b', 'B')\n",
            "('c', 'C')\n",
            "('d', 'D')\n"
          ],
          "name": "stdout"
        }
      ]
    },
    {
      "cell_type": "code",
      "metadata": {
        "id": "Xlxchv14YKJc",
        "colab_type": "code",
        "colab": {
          "base_uri": "https://localhost:8080/",
          "height": 34
        },
        "outputId": "9c60eb2c-f054-4110-9e13-8db474e748ea"
      },
      "source": [
        "abcd = ['a', 'b', 'c', 'd']\n",
        "ABCD = ['A', 'B', 'C', 'D']\n",
        "z = zip(abcd, ABCD)\n",
        "print(*z)                          # * is used to print all the values at once"
      ],
      "execution_count": 10,
      "outputs": [
        {
          "output_type": "stream",
          "text": [
            "('a', 'A') ('b', 'B') ('c', 'C') ('d', 'D')\n"
          ],
          "name": "stdout"
        }
      ]
    }
  ]
}