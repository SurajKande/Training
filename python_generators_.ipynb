{
  "nbformat": 4,
  "nbformat_minor": 0,
  "metadata": {
    "colab": {
      "name": "python_generators_.ipynb",
      "provenance": [],
      "collapsed_sections": [],
      "authorship_tag": "ABX9TyMfVTWdbVxTiWaVs9/bXfNM",
      "include_colab_link": true
    },
    "kernelspec": {
      "name": "python3",
      "display_name": "Python 3"
    }
  },
  "cells": [
    {
      "cell_type": "markdown",
      "metadata": {
        "id": "view-in-github",
        "colab_type": "text"
      },
      "source": [
        "<a href=\"https://colab.research.google.com/github/SurajKande/python-basics/blob/master/python_generators_.ipynb\" target=\"_parent\"><img src=\"https://colab.research.google.com/assets/colab-badge.svg\" alt=\"Open In Colab\"/></a>"
      ]
    },
    {
      "cell_type": "markdown",
      "metadata": {
        "id": "GqKJmhtDbU8n",
        "colab_type": "text"
      },
      "source": [
        "#Generators                                                              \n",
        " -> python generators are similar to list comprehensions but not the same           \n",
        " -> use of parentheses () in generator expressions and brackets [] in list \n",
        "comprehensions.                                                                 \n",
        " "
      ]
    },
    {
      "cell_type": "code",
      "metadata": {
        "id": "B-ny6d3sfV6e",
        "colab_type": "code",
        "colab": {
          "base_uri": "https://localhost:8080/",
          "height": 51
        },
        "outputId": "6b986f1e-768d-41bf-d52d-6595d6213ef0"
      },
      "source": [
        "#difference between list comprehension and generators\n",
        "# List of strings\n",
        "fellowship = ['frodo', 'samwise', 'merry', 'aragorn', 'legolas', 'boromir', 'gimli']\n",
        "\n",
        "# List comprehension\n",
        "fellow1 = [member for member in fellowship if len(member) >= 7]\n",
        "print(type(fellow1))\n",
        "# Generator expression\n",
        "fellow2 = (member for member in fellowship if len(member) >= 7)\n",
        "print(type(fellow2))"
      ],
      "execution_count": 1,
      "outputs": [
        {
          "output_type": "stream",
          "text": [
            "<class 'list'>\n",
            "<class 'generator'>\n"
          ],
          "name": "stdout"
        }
      ]
    },
    {
      "cell_type": "code",
      "metadata": {
        "id": "8FKphWUSesjf",
        "colab_type": "code",
        "colab": {
          "base_uri": "https://localhost:8080/",
          "height": 204
        },
        "outputId": "734d2b95-8d27-436e-bdd2-626628dc15fe"
      },
      "source": [
        "# Create generator object     \n",
        "result = (num for num in range(0, 11))\n",
        "\n",
        "# Print the first 5 values\n",
        "print(next(result))\n",
        "print(next(result))\n",
        "print(next(result))\n",
        "print(next(result))\n",
        "print(next(result))             #generator object is iterable\n",
        "\n",
        "# Print the rest of the values\n",
        "for value in result:\n",
        "    print(value)\n"
      ],
      "execution_count": 3,
      "outputs": [
        {
          "output_type": "stream",
          "text": [
            "0\n",
            "1\n",
            "2\n",
            "3\n",
            "4\n",
            "5\n",
            "6\n",
            "7\n",
            "8\n",
            "9\n",
            "10\n"
          ],
          "name": "stdout"
        }
      ]
    },
    {
      "cell_type": "code",
      "metadata": {
        "id": "KRUSUoGmvbAE",
        "colab_type": "code",
        "colab": {
          "base_uri": "https://localhost:8080/",
          "height": 85
        },
        "outputId": "8895fb75-b884-4ddb-f732-47deaf99968e"
      },
      "source": [
        "#creating a generator function\n",
        "movies = [\"lego\", \"star wars\", \" avengers\", \"batman\"]\n",
        "def get_length(input_list):\n",
        "  for i in input_list:\n",
        "    yield(len(i))\n",
        "\n",
        "for value in get_length(movies):\n",
        "    print(value)\n"
      ],
      "execution_count": 5,
      "outputs": [
        {
          "output_type": "stream",
          "text": [
            "4\n",
            "9\n",
            "9\n",
            "6\n"
          ],
          "name": "stdout"
        }
      ]
    }
  ]
}