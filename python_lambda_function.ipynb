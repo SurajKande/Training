{
  "nbformat": 4,
  "nbformat_minor": 0,
  "metadata": {
    "colab": {
      "name": "python_lambda_function.ipynb",
      "provenance": [],
      "authorship_tag": "ABX9TyOOh+4QSrZmUVlIGUZLSGmF",
      "include_colab_link": true
    },
    "kernelspec": {
      "name": "python3",
      "display_name": "Python 3"
    }
  },
  "cells": [
    {
      "cell_type": "markdown",
      "metadata": {
        "id": "view-in-github",
        "colab_type": "text"
      },
      "source": [
        "<a href=\"https://colab.research.google.com/github/SurajKande/Training/blob/master/python_lambda_function.ipynb\" target=\"_parent\"><img src=\"https://colab.research.google.com/assets/colab-badge.svg\" alt=\"Open In Colab\"/></a>"
      ]
    },
    {
      "cell_type": "markdown",
      "metadata": {
        "id": "owjn2Zvqqte6",
        "colab_type": "text"
      },
      "source": [
        "#Lambda function:                                                               \n",
        "lambda functions are simple one line functions, by doing this we can write less lines of code.                                                                 \n",
        "syntax:\n",
        "\n",
        "```\n",
        "lambda variables : operations\n",
        "```\n",
        "it can take multiple variables to performn an operation on those variables\n",
        " "
      ]
    },
    {
      "cell_type": "code",
      "metadata": {
        "id": "Nhmr6XKdqcl9",
        "colab_type": "code",
        "colab": {
          "base_uri": "https://localhost:8080/",
          "height": 34
        },
        "outputId": "97b0f625-3f6d-4e10-990c-8bfc646b8fcb"
      },
      "source": [
        "#example to create lambda function\n",
        "power =  lambda num, n : num**n\n",
        "print(power(13, 2))"
      ],
      "execution_count": 3,
      "outputs": [
        {
          "output_type": "stream",
          "text": [
            "169\n"
          ],
          "name": "stdout"
        }
      ]
    },
    {
      "cell_type": "markdown",
      "metadata": {
        "id": "69Y7jeuRsaPj",
        "colab_type": "text"
      },
      "source": [
        "### map() and lambda functions                                                  \n",
        "\n",
        "\n",
        "*   map() : it takes 2 arguments a function and an object and applies that function over that object [ output : is a map object ]\n",
        "\n"
      ]
    },
    {
      "cell_type": "code",
      "metadata": {
        "id": "o8yIosxwsgIV",
        "colab_type": "code",
        "colab": {
          "base_uri": "https://localhost:8080/",
          "height": 34
        },
        "outputId": "b4ec2b03-f2ac-4099-b2d3-ecef8491ed5f"
      },
      "source": [
        "list = [2, 4, 6, 8, 10]\n",
        "res = map(lambda a: a*2, list)   # here lambda is the function to perform on list which is an object\n",
        "print(res)"
      ],
      "execution_count": 13,
      "outputs": [
        {
          "output_type": "stream",
          "text": [
            "<map object at 0x7f93fefadc18>\n"
          ],
          "name": "stdout"
        }
      ]
    },
    {
      "cell_type": "code",
      "metadata": {
        "id": "6e1vrznothiH",
        "colab_type": "code",
        "colab": {
          "base_uri": "https://localhost:8080/",
          "height": 34
        },
        "outputId": "4aa5c35f-e849-4dee-da80-9fbce7c88b3c"
      },
      "source": [
        "#output of mapfunction is a map object hence convert it into list or tuple to view values\n",
        "list1 = [2, 4, 6, 8, 10]\n",
        "res = map(lambda a: a * 2, list1)   \n",
        "result = tuple(res) \n",
        "print(result)"
      ],
      "execution_count": 28,
      "outputs": [
        {
          "output_type": "stream",
          "text": [
            "(4, 8, 12, 16, 20)\n"
          ],
          "name": "stdout"
        }
      ]
    },
    {
      "cell_type": "code",
      "metadata": {
        "id": "5BYGc3evu3rW",
        "colab_type": "code",
        "colab": {
          "base_uri": "https://localhost:8080/",
          "height": 34
        },
        "outputId": "d2d1fa55-17e7-4bbc-999d-c21d9edaf264"
      },
      "source": [
        "#output of mapfunction is a map object hence convert it into list or tuple or set to view values\n",
        "x = [2, 4, 6, 8, 10]\n",
        "#print(type(list1))\n",
        "res = map(lambda a: a * 2, x)  \n",
        "#print(type(res)) \n",
        "result = set(res) \n",
        "print(result)"
      ],
      "execution_count": 23,
      "outputs": [
        {
          "output_type": "stream",
          "text": [
            "{4, 8, 12, 16, 20}\n"
          ],
          "name": "stdout"
        }
      ]
    },
    {
      "cell_type": "code",
      "metadata": {
        "id": "cPgVziESwvWu",
        "colab_type": "code",
        "colab": {
          "base_uri": "https://localhost:8080/",
          "height": 212
        },
        "outputId": "07114c51-5ba8-4fb3-d007-8fb610f2d60b"
      },
      "source": [
        "#output of mapfunction is a map object hence convert it into list or tuple or set to view values\n",
        "x = [2, 4, 6, 8, 10]\n",
        "#print(type(list1))\n",
        "res = map(lambda a: a * 2, x)  \n",
        "#print(type(res)) \n",
        "result = list(res) \n",
        "print(result)"
      ],
      "execution_count": 26,
      "outputs": [
        {
          "output_type": "error",
          "ename": "TypeError",
          "evalue": "ignored",
          "traceback": [
            "\u001b[0;31m---------------------------------------------------------------------------\u001b[0m",
            "\u001b[0;31mTypeError\u001b[0m                                 Traceback (most recent call last)",
            "\u001b[0;32m<ipython-input-26-5be0d5397b1d>\u001b[0m in \u001b[0;36m<module>\u001b[0;34m()\u001b[0m\n\u001b[1;32m      3\u001b[0m \u001b[0mres\u001b[0m \u001b[0;34m=\u001b[0m \u001b[0mmap\u001b[0m\u001b[0;34m(\u001b[0m\u001b[0;32mlambda\u001b[0m \u001b[0ma\u001b[0m\u001b[0;34m:\u001b[0m \u001b[0ma\u001b[0m \u001b[0;34m>\u001b[0m \u001b[0;36m2\u001b[0m\u001b[0;34m,\u001b[0m \u001b[0mx\u001b[0m\u001b[0;34m)\u001b[0m\u001b[0;34m\u001b[0m\u001b[0;34m\u001b[0m\u001b[0m\n\u001b[1;32m      4\u001b[0m \u001b[0;31m#print(type(res))\u001b[0m\u001b[0;34m\u001b[0m\u001b[0;34m\u001b[0m\u001b[0;34m\u001b[0m\u001b[0m\n\u001b[0;32m----> 5\u001b[0;31m \u001b[0mresult\u001b[0m \u001b[0;34m=\u001b[0m \u001b[0mlist\u001b[0m\u001b[0;34m(\u001b[0m\u001b[0mres\u001b[0m\u001b[0;34m)\u001b[0m\u001b[0;34m\u001b[0m\u001b[0;34m\u001b[0m\u001b[0m\n\u001b[0m\u001b[1;32m      6\u001b[0m \u001b[0mprint\u001b[0m\u001b[0;34m(\u001b[0m\u001b[0mresult\u001b[0m\u001b[0;34m)\u001b[0m\u001b[0;34m\u001b[0m\u001b[0;34m\u001b[0m\u001b[0m\n",
            "\u001b[0;31mTypeError\u001b[0m: 'list' object is not callable"
          ]
        }
      ]
    },
    {
      "cell_type": "code",
      "metadata": {
        "id": "4sCP6qnfzeYx",
        "colab_type": "code",
        "colab": {
          "base_uri": "https://localhost:8080/",
          "height": 34
        },
        "outputId": "cf5c2824-578b-4a7b-caf8-d20fe322f38d"
      },
      "source": [
        "#observing if we perform any operation\n",
        "x = [2, 4, 6, 8, 10]\n",
        "#print(type(list1))\n",
        "res = map(lambda a: a > 2, x)  \n",
        "#print(type(res)) \n",
        "result = tuple(res) \n",
        "print(result)\n",
        "#output comes out to be a boolean "
      ],
      "execution_count": 33,
      "outputs": [
        {
          "output_type": "stream",
          "text": [
            "(False, True, True, True, True)\n"
          ],
          "name": "stdout"
        }
      ]
    },
    {
      "cell_type": "markdown",
      "metadata": {
        "id": "8UmgYIT6w2ZE",
        "colab_type": "text"
      },
      "source": [
        "### filter() and lambda functions                                                  \n",
        "\n",
        "\n",
        "*   filter() : it takes 2 arguments, offers a way to filter out elements from a list that don't satisfy certain criteria [ output: filter object ]\n",
        "\n"
      ]
    },
    {
      "cell_type": "code",
      "metadata": {
        "id": "znIFtADIxrJW",
        "colab_type": "code",
        "colab": {
          "base_uri": "https://localhost:8080/",
          "height": 34
        },
        "outputId": "33c14556-04ab-4068-ef52-67bc8ec4426f"
      },
      "source": [
        "#output of mapfunction is a filter object hence convert it into list or tuple or set to view values\n",
        "x = [2, 4, 6, 8, 10]\n",
        "#print(type(list1))\n",
        "res = filter(lambda a: a > 2, x)  \n",
        "#print(type(res)) \n",
        "result = tuple(res) \n",
        "print(result)"
      ],
      "execution_count": 31,
      "outputs": [
        {
          "output_type": "stream",
          "text": [
            "(4, 6, 8, 10)\n"
          ],
          "name": "stdout"
        }
      ]
    },
    {
      "cell_type": "code",
      "metadata": {
        "id": "EJw5FOkmyjZZ",
        "colab_type": "code",
        "colab": {
          "base_uri": "https://localhost:8080/",
          "height": 34
        },
        "outputId": "c1f58dd5-d1ba-4cb4-a014-9a543016ee23"
      },
      "source": [
        "#observing if we perform any operation\n",
        "x = [2, 4, 6, 8, 10]\n",
        "#print(type(list1))\n",
        "res = filter(lambda a: a * 2, x)  \n",
        "#print(type(res)) \n",
        "result = tuple(res) \n",
        "print(result)\n",
        "#output dosent change since filter function performs filtering"
      ],
      "execution_count": 45,
      "outputs": [
        {
          "output_type": "stream",
          "text": [
            "(2, 4, 6, 8, 10)\n"
          ],
          "name": "stdout"
        }
      ]
    },
    {
      "cell_type": "markdown",
      "metadata": {
        "id": "B0GV1EeUz84E",
        "colab_type": "text"
      },
      "source": [
        "### reduce() and lambda functions                                                  \n",
        "\n",
        "\n",
        "*   reduce() : unlike map() and filter(), returns a single value as a result. To use reduce(), you must import it from the functools module.\n",
        "\n"
      ]
    },
    {
      "cell_type": "code",
      "metadata": {
        "id": "VMV85XMe0YwF",
        "colab_type": "code",
        "colab": {
          "base_uri": "https://localhost:8080/",
          "height": 34
        },
        "outputId": "5592a88d-76fb-4744-9463-a266f5385942"
      },
      "source": [
        "from functools import reduce\n",
        "x = [2, 4, 6, 8, 10]\n",
        "res = reduce(lambda a,b: a + b, x)  \n",
        "print(res)"
      ],
      "execution_count": 38,
      "outputs": [
        {
          "output_type": "stream",
          "text": [
            "30\n"
          ],
          "name": "stdout"
        }
      ]
    },
    {
      "cell_type": "code",
      "metadata": {
        "id": "X3cjSARP1UV8",
        "colab_type": "code",
        "colab": {
          "base_uri": "https://localhost:8080/",
          "height": 34
        },
        "outputId": "2725428b-7ac5-491d-f638-8f00bea12b4b"
      },
      "source": [
        "#observing if we perform any operation\n",
        "from functools import reduce\n",
        "x = [2, 4, 6, 8, 10]\n",
        "result = reduce(lambda a,b: a > b, x)  \n",
        "print(result)\n",
        "#output dosent change since filter function performs filtering"
      ],
      "execution_count": 41,
      "outputs": [
        {
          "output_type": "stream",
          "text": [
            "False\n"
          ],
          "name": "stdout"
        }
      ]
    }
  ]
}